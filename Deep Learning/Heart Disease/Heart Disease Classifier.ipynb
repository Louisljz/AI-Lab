{
 "cells": [
  {
   "cell_type": "markdown",
   "metadata": {},
   "source": [
    "# Heart Disease Classifier using ANN"
   ]
  },
  {
   "cell_type": "markdown",
   "metadata": {},
   "source": [
    "In this project, we will be predicting whether a person has heart disease or not through Artificial Neural Network from Deep Learning"
   ]
  },
  {
   "cell_type": "markdown",
   "metadata": {},
   "source": [
    "First of all, attach the heart disease dataset in this project directory."
   ]
  },
  {
   "cell_type": "markdown",
   "metadata": {},
   "source": [
    "## Data Description"
   ]
  },
  {
   "cell_type": "markdown",
   "metadata": {},
   "source": [
    "Dataset Link: https://www.kaggle.com/datasets/johnsmith88/heart-disease-dataset?resource=download\n",
    "\n",
    "__About Dataset:__\n",
    "\n",
    "*Context*\n",
    "\n",
    "This data set dates from 1988 and consists of four databases: Cleveland, Hungary, Switzerland, and Long Beach V. It contains 76 attributes, including the predicted attribute, but all published experiments refer to using a subset of 14 of them. The \"target\" field refers to the presence of heart disease in the patient. It is integer valued 0 = no disease and 1 = disease.\n",
    "\n",
    "*Content*\n",
    "\n",
    "**Attribute Information:**\n",
    "\n",
    "1. age\n",
    "2. sex\n",
    "3. chest pain type (4 values)\n",
    "4. resting blood pressure\n",
    "5. serum cholestoral in mg/dl\n",
    "6. fasting blood sugar > 120 mg/dl\n",
    "7. resting electrocardiographic results (values 0,1,2)\n",
    "8. maximum heart rate achieved\n",
    "9. exercise induced angina\n",
    "10. oldpeak = ST depression induced by exercise relative to rest\n",
    "11. the slope of the peak exercise ST segment\n",
    "12. number of major vessels (0-3) colored by flourosopy\n",
    "13. thal: 0 = normal; 1 = fixed defect; 2 = reversable defect\n",
    "\n",
    "*The names and social security numbers of the patients were recently removed from the database, replaced with dummy values.*"
   ]
  },
  {
   "cell_type": "markdown",
   "metadata": {},
   "source": [
    "## Data Loading"
   ]
  },
  {
   "cell_type": "markdown",
   "metadata": {},
   "source": [
    "This is where we will load the dataset, and conduct data exploration and analysis"
   ]
  },
  {
   "cell_type": "markdown",
   "metadata": {},
   "source": [
    "We will need pandas library to do this"
   ]
  },
  {
   "cell_type": "code",
   "execution_count": 1,
   "metadata": {},
   "outputs": [],
   "source": [
    "import pandas as pd"
   ]
  },
  {
   "cell_type": "code",
   "execution_count": 2,
   "metadata": {},
   "outputs": [],
   "source": [
    "df = pd.read_csv(\"heart.csv\")"
   ]
  },
  {
   "cell_type": "code",
   "execution_count": 3,
   "metadata": {},
   "outputs": [
    {
     "data": {
      "text/html": [
       "<div>\n",
       "<style scoped>\n",
       "    .dataframe tbody tr th:only-of-type {\n",
       "        vertical-align: middle;\n",
       "    }\n",
       "\n",
       "    .dataframe tbody tr th {\n",
       "        vertical-align: top;\n",
       "    }\n",
       "\n",
       "    .dataframe thead th {\n",
       "        text-align: right;\n",
       "    }\n",
       "</style>\n",
       "<table border=\"1\" class=\"dataframe\">\n",
       "  <thead>\n",
       "    <tr style=\"text-align: right;\">\n",
       "      <th></th>\n",
       "      <th>age</th>\n",
       "      <th>sex</th>\n",
       "      <th>cp</th>\n",
       "      <th>trestbps</th>\n",
       "      <th>chol</th>\n",
       "      <th>fbs</th>\n",
       "      <th>restecg</th>\n",
       "      <th>thalach</th>\n",
       "      <th>exang</th>\n",
       "      <th>oldpeak</th>\n",
       "      <th>slope</th>\n",
       "      <th>ca</th>\n",
       "      <th>thal</th>\n",
       "      <th>target</th>\n",
       "    </tr>\n",
       "  </thead>\n",
       "  <tbody>\n",
       "    <tr>\n",
       "      <th>0</th>\n",
       "      <td>52</td>\n",
       "      <td>1</td>\n",
       "      <td>0</td>\n",
       "      <td>125</td>\n",
       "      <td>212</td>\n",
       "      <td>0</td>\n",
       "      <td>1</td>\n",
       "      <td>168</td>\n",
       "      <td>0</td>\n",
       "      <td>1.0</td>\n",
       "      <td>2</td>\n",
       "      <td>2</td>\n",
       "      <td>3</td>\n",
       "      <td>0</td>\n",
       "    </tr>\n",
       "    <tr>\n",
       "      <th>1</th>\n",
       "      <td>53</td>\n",
       "      <td>1</td>\n",
       "      <td>0</td>\n",
       "      <td>140</td>\n",
       "      <td>203</td>\n",
       "      <td>1</td>\n",
       "      <td>0</td>\n",
       "      <td>155</td>\n",
       "      <td>1</td>\n",
       "      <td>3.1</td>\n",
       "      <td>0</td>\n",
       "      <td>0</td>\n",
       "      <td>3</td>\n",
       "      <td>0</td>\n",
       "    </tr>\n",
       "    <tr>\n",
       "      <th>2</th>\n",
       "      <td>70</td>\n",
       "      <td>1</td>\n",
       "      <td>0</td>\n",
       "      <td>145</td>\n",
       "      <td>174</td>\n",
       "      <td>0</td>\n",
       "      <td>1</td>\n",
       "      <td>125</td>\n",
       "      <td>1</td>\n",
       "      <td>2.6</td>\n",
       "      <td>0</td>\n",
       "      <td>0</td>\n",
       "      <td>3</td>\n",
       "      <td>0</td>\n",
       "    </tr>\n",
       "    <tr>\n",
       "      <th>3</th>\n",
       "      <td>61</td>\n",
       "      <td>1</td>\n",
       "      <td>0</td>\n",
       "      <td>148</td>\n",
       "      <td>203</td>\n",
       "      <td>0</td>\n",
       "      <td>1</td>\n",
       "      <td>161</td>\n",
       "      <td>0</td>\n",
       "      <td>0.0</td>\n",
       "      <td>2</td>\n",
       "      <td>1</td>\n",
       "      <td>3</td>\n",
       "      <td>0</td>\n",
       "    </tr>\n",
       "    <tr>\n",
       "      <th>4</th>\n",
       "      <td>62</td>\n",
       "      <td>0</td>\n",
       "      <td>0</td>\n",
       "      <td>138</td>\n",
       "      <td>294</td>\n",
       "      <td>1</td>\n",
       "      <td>1</td>\n",
       "      <td>106</td>\n",
       "      <td>0</td>\n",
       "      <td>1.9</td>\n",
       "      <td>1</td>\n",
       "      <td>3</td>\n",
       "      <td>2</td>\n",
       "      <td>0</td>\n",
       "    </tr>\n",
       "  </tbody>\n",
       "</table>\n",
       "</div>"
      ],
      "text/plain": [
       "   age  sex  cp  trestbps  chol  fbs  restecg  thalach  exang  oldpeak  slope  \\\n",
       "0   52    1   0       125   212    0        1      168      0      1.0      2   \n",
       "1   53    1   0       140   203    1        0      155      1      3.1      0   \n",
       "2   70    1   0       145   174    0        1      125      1      2.6      0   \n",
       "3   61    1   0       148   203    0        1      161      0      0.0      2   \n",
       "4   62    0   0       138   294    1        1      106      0      1.9      1   \n",
       "\n",
       "   ca  thal  target  \n",
       "0   2     3       0  \n",
       "1   0     3       0  \n",
       "2   0     3       0  \n",
       "3   1     3       0  \n",
       "4   3     2       0  "
      ]
     },
     "execution_count": 3,
     "metadata": {},
     "output_type": "execute_result"
    }
   ],
   "source": [
    "df.head()"
   ]
  },
  {
   "cell_type": "code",
   "execution_count": 4,
   "metadata": {},
   "outputs": [
    {
     "data": {
      "text/html": [
       "<div>\n",
       "<style scoped>\n",
       "    .dataframe tbody tr th:only-of-type {\n",
       "        vertical-align: middle;\n",
       "    }\n",
       "\n",
       "    .dataframe tbody tr th {\n",
       "        vertical-align: top;\n",
       "    }\n",
       "\n",
       "    .dataframe thead th {\n",
       "        text-align: right;\n",
       "    }\n",
       "</style>\n",
       "<table border=\"1\" class=\"dataframe\">\n",
       "  <thead>\n",
       "    <tr style=\"text-align: right;\">\n",
       "      <th></th>\n",
       "      <th>age</th>\n",
       "      <th>sex</th>\n",
       "      <th>cp</th>\n",
       "      <th>trestbps</th>\n",
       "      <th>chol</th>\n",
       "      <th>fbs</th>\n",
       "      <th>restecg</th>\n",
       "      <th>thalach</th>\n",
       "      <th>exang</th>\n",
       "      <th>oldpeak</th>\n",
       "      <th>slope</th>\n",
       "      <th>ca</th>\n",
       "      <th>thal</th>\n",
       "      <th>target</th>\n",
       "    </tr>\n",
       "  </thead>\n",
       "  <tbody>\n",
       "    <tr>\n",
       "      <th>1020</th>\n",
       "      <td>59</td>\n",
       "      <td>1</td>\n",
       "      <td>1</td>\n",
       "      <td>140</td>\n",
       "      <td>221</td>\n",
       "      <td>0</td>\n",
       "      <td>1</td>\n",
       "      <td>164</td>\n",
       "      <td>1</td>\n",
       "      <td>0.0</td>\n",
       "      <td>2</td>\n",
       "      <td>0</td>\n",
       "      <td>2</td>\n",
       "      <td>1</td>\n",
       "    </tr>\n",
       "    <tr>\n",
       "      <th>1021</th>\n",
       "      <td>60</td>\n",
       "      <td>1</td>\n",
       "      <td>0</td>\n",
       "      <td>125</td>\n",
       "      <td>258</td>\n",
       "      <td>0</td>\n",
       "      <td>0</td>\n",
       "      <td>141</td>\n",
       "      <td>1</td>\n",
       "      <td>2.8</td>\n",
       "      <td>1</td>\n",
       "      <td>1</td>\n",
       "      <td>3</td>\n",
       "      <td>0</td>\n",
       "    </tr>\n",
       "    <tr>\n",
       "      <th>1022</th>\n",
       "      <td>47</td>\n",
       "      <td>1</td>\n",
       "      <td>0</td>\n",
       "      <td>110</td>\n",
       "      <td>275</td>\n",
       "      <td>0</td>\n",
       "      <td>0</td>\n",
       "      <td>118</td>\n",
       "      <td>1</td>\n",
       "      <td>1.0</td>\n",
       "      <td>1</td>\n",
       "      <td>1</td>\n",
       "      <td>2</td>\n",
       "      <td>0</td>\n",
       "    </tr>\n",
       "    <tr>\n",
       "      <th>1023</th>\n",
       "      <td>50</td>\n",
       "      <td>0</td>\n",
       "      <td>0</td>\n",
       "      <td>110</td>\n",
       "      <td>254</td>\n",
       "      <td>0</td>\n",
       "      <td>0</td>\n",
       "      <td>159</td>\n",
       "      <td>0</td>\n",
       "      <td>0.0</td>\n",
       "      <td>2</td>\n",
       "      <td>0</td>\n",
       "      <td>2</td>\n",
       "      <td>1</td>\n",
       "    </tr>\n",
       "    <tr>\n",
       "      <th>1024</th>\n",
       "      <td>54</td>\n",
       "      <td>1</td>\n",
       "      <td>0</td>\n",
       "      <td>120</td>\n",
       "      <td>188</td>\n",
       "      <td>0</td>\n",
       "      <td>1</td>\n",
       "      <td>113</td>\n",
       "      <td>0</td>\n",
       "      <td>1.4</td>\n",
       "      <td>1</td>\n",
       "      <td>1</td>\n",
       "      <td>3</td>\n",
       "      <td>0</td>\n",
       "    </tr>\n",
       "  </tbody>\n",
       "</table>\n",
       "</div>"
      ],
      "text/plain": [
       "      age  sex  cp  trestbps  chol  fbs  restecg  thalach  exang  oldpeak  \\\n",
       "1020   59    1   1       140   221    0        1      164      1      0.0   \n",
       "1021   60    1   0       125   258    0        0      141      1      2.8   \n",
       "1022   47    1   0       110   275    0        0      118      1      1.0   \n",
       "1023   50    0   0       110   254    0        0      159      0      0.0   \n",
       "1024   54    1   0       120   188    0        1      113      0      1.4   \n",
       "\n",
       "      slope  ca  thal  target  \n",
       "1020      2   0     2       1  \n",
       "1021      1   1     3       0  \n",
       "1022      1   1     2       0  \n",
       "1023      2   0     2       1  \n",
       "1024      1   1     3       0  "
      ]
     },
     "execution_count": 4,
     "metadata": {},
     "output_type": "execute_result"
    }
   ],
   "source": [
    "df.tail()"
   ]
  },
  {
   "cell_type": "markdown",
   "metadata": {},
   "source": [
    "__Describing Data__"
   ]
  },
  {
   "cell_type": "code",
   "execution_count": 5,
   "metadata": {},
   "outputs": [
    {
     "data": {
      "text/plain": [
       "Index(['age', 'sex', 'cp', 'trestbps', 'chol', 'fbs', 'restecg', 'thalach',\n",
       "       'exang', 'oldpeak', 'slope', 'ca', 'thal', 'target'],\n",
       "      dtype='object')"
      ]
     },
     "execution_count": 5,
     "metadata": {},
     "output_type": "execute_result"
    }
   ],
   "source": [
    "df.columns"
   ]
  },
  {
   "cell_type": "code",
   "execution_count": 6,
   "metadata": {},
   "outputs": [
    {
     "data": {
      "text/plain": [
       "(1025, 14)"
      ]
     },
     "execution_count": 6,
     "metadata": {},
     "output_type": "execute_result"
    }
   ],
   "source": [
    "df.shape"
   ]
  },
  {
   "cell_type": "code",
   "execution_count": 7,
   "metadata": {},
   "outputs": [
    {
     "data": {
      "text/html": [
       "<div>\n",
       "<style scoped>\n",
       "    .dataframe tbody tr th:only-of-type {\n",
       "        vertical-align: middle;\n",
       "    }\n",
       "\n",
       "    .dataframe tbody tr th {\n",
       "        vertical-align: top;\n",
       "    }\n",
       "\n",
       "    .dataframe thead th {\n",
       "        text-align: right;\n",
       "    }\n",
       "</style>\n",
       "<table border=\"1\" class=\"dataframe\">\n",
       "  <thead>\n",
       "    <tr style=\"text-align: right;\">\n",
       "      <th></th>\n",
       "      <th>age</th>\n",
       "      <th>sex</th>\n",
       "      <th>cp</th>\n",
       "      <th>trestbps</th>\n",
       "      <th>chol</th>\n",
       "      <th>fbs</th>\n",
       "      <th>restecg</th>\n",
       "      <th>thalach</th>\n",
       "      <th>exang</th>\n",
       "      <th>oldpeak</th>\n",
       "      <th>slope</th>\n",
       "      <th>ca</th>\n",
       "      <th>thal</th>\n",
       "      <th>target</th>\n",
       "    </tr>\n",
       "  </thead>\n",
       "  <tbody>\n",
       "    <tr>\n",
       "      <th>count</th>\n",
       "      <td>1025.000000</td>\n",
       "      <td>1025.000000</td>\n",
       "      <td>1025.000000</td>\n",
       "      <td>1025.000000</td>\n",
       "      <td>1025.00000</td>\n",
       "      <td>1025.000000</td>\n",
       "      <td>1025.000000</td>\n",
       "      <td>1025.000000</td>\n",
       "      <td>1025.000000</td>\n",
       "      <td>1025.000000</td>\n",
       "      <td>1025.000000</td>\n",
       "      <td>1025.000000</td>\n",
       "      <td>1025.000000</td>\n",
       "      <td>1025.000000</td>\n",
       "    </tr>\n",
       "    <tr>\n",
       "      <th>mean</th>\n",
       "      <td>54.434146</td>\n",
       "      <td>0.695610</td>\n",
       "      <td>0.942439</td>\n",
       "      <td>131.611707</td>\n",
       "      <td>246.00000</td>\n",
       "      <td>0.149268</td>\n",
       "      <td>0.529756</td>\n",
       "      <td>149.114146</td>\n",
       "      <td>0.336585</td>\n",
       "      <td>1.071512</td>\n",
       "      <td>1.385366</td>\n",
       "      <td>0.754146</td>\n",
       "      <td>2.323902</td>\n",
       "      <td>0.513171</td>\n",
       "    </tr>\n",
       "    <tr>\n",
       "      <th>std</th>\n",
       "      <td>9.072290</td>\n",
       "      <td>0.460373</td>\n",
       "      <td>1.029641</td>\n",
       "      <td>17.516718</td>\n",
       "      <td>51.59251</td>\n",
       "      <td>0.356527</td>\n",
       "      <td>0.527878</td>\n",
       "      <td>23.005724</td>\n",
       "      <td>0.472772</td>\n",
       "      <td>1.175053</td>\n",
       "      <td>0.617755</td>\n",
       "      <td>1.030798</td>\n",
       "      <td>0.620660</td>\n",
       "      <td>0.500070</td>\n",
       "    </tr>\n",
       "    <tr>\n",
       "      <th>min</th>\n",
       "      <td>29.000000</td>\n",
       "      <td>0.000000</td>\n",
       "      <td>0.000000</td>\n",
       "      <td>94.000000</td>\n",
       "      <td>126.00000</td>\n",
       "      <td>0.000000</td>\n",
       "      <td>0.000000</td>\n",
       "      <td>71.000000</td>\n",
       "      <td>0.000000</td>\n",
       "      <td>0.000000</td>\n",
       "      <td>0.000000</td>\n",
       "      <td>0.000000</td>\n",
       "      <td>0.000000</td>\n",
       "      <td>0.000000</td>\n",
       "    </tr>\n",
       "    <tr>\n",
       "      <th>25%</th>\n",
       "      <td>48.000000</td>\n",
       "      <td>0.000000</td>\n",
       "      <td>0.000000</td>\n",
       "      <td>120.000000</td>\n",
       "      <td>211.00000</td>\n",
       "      <td>0.000000</td>\n",
       "      <td>0.000000</td>\n",
       "      <td>132.000000</td>\n",
       "      <td>0.000000</td>\n",
       "      <td>0.000000</td>\n",
       "      <td>1.000000</td>\n",
       "      <td>0.000000</td>\n",
       "      <td>2.000000</td>\n",
       "      <td>0.000000</td>\n",
       "    </tr>\n",
       "    <tr>\n",
       "      <th>50%</th>\n",
       "      <td>56.000000</td>\n",
       "      <td>1.000000</td>\n",
       "      <td>1.000000</td>\n",
       "      <td>130.000000</td>\n",
       "      <td>240.00000</td>\n",
       "      <td>0.000000</td>\n",
       "      <td>1.000000</td>\n",
       "      <td>152.000000</td>\n",
       "      <td>0.000000</td>\n",
       "      <td>0.800000</td>\n",
       "      <td>1.000000</td>\n",
       "      <td>0.000000</td>\n",
       "      <td>2.000000</td>\n",
       "      <td>1.000000</td>\n",
       "    </tr>\n",
       "    <tr>\n",
       "      <th>75%</th>\n",
       "      <td>61.000000</td>\n",
       "      <td>1.000000</td>\n",
       "      <td>2.000000</td>\n",
       "      <td>140.000000</td>\n",
       "      <td>275.00000</td>\n",
       "      <td>0.000000</td>\n",
       "      <td>1.000000</td>\n",
       "      <td>166.000000</td>\n",
       "      <td>1.000000</td>\n",
       "      <td>1.800000</td>\n",
       "      <td>2.000000</td>\n",
       "      <td>1.000000</td>\n",
       "      <td>3.000000</td>\n",
       "      <td>1.000000</td>\n",
       "    </tr>\n",
       "    <tr>\n",
       "      <th>max</th>\n",
       "      <td>77.000000</td>\n",
       "      <td>1.000000</td>\n",
       "      <td>3.000000</td>\n",
       "      <td>200.000000</td>\n",
       "      <td>564.00000</td>\n",
       "      <td>1.000000</td>\n",
       "      <td>2.000000</td>\n",
       "      <td>202.000000</td>\n",
       "      <td>1.000000</td>\n",
       "      <td>6.200000</td>\n",
       "      <td>2.000000</td>\n",
       "      <td>4.000000</td>\n",
       "      <td>3.000000</td>\n",
       "      <td>1.000000</td>\n",
       "    </tr>\n",
       "  </tbody>\n",
       "</table>\n",
       "</div>"
      ],
      "text/plain": [
       "               age          sex           cp     trestbps        chol  \\\n",
       "count  1025.000000  1025.000000  1025.000000  1025.000000  1025.00000   \n",
       "mean     54.434146     0.695610     0.942439   131.611707   246.00000   \n",
       "std       9.072290     0.460373     1.029641    17.516718    51.59251   \n",
       "min      29.000000     0.000000     0.000000    94.000000   126.00000   \n",
       "25%      48.000000     0.000000     0.000000   120.000000   211.00000   \n",
       "50%      56.000000     1.000000     1.000000   130.000000   240.00000   \n",
       "75%      61.000000     1.000000     2.000000   140.000000   275.00000   \n",
       "max      77.000000     1.000000     3.000000   200.000000   564.00000   \n",
       "\n",
       "               fbs      restecg      thalach        exang      oldpeak  \\\n",
       "count  1025.000000  1025.000000  1025.000000  1025.000000  1025.000000   \n",
       "mean      0.149268     0.529756   149.114146     0.336585     1.071512   \n",
       "std       0.356527     0.527878    23.005724     0.472772     1.175053   \n",
       "min       0.000000     0.000000    71.000000     0.000000     0.000000   \n",
       "25%       0.000000     0.000000   132.000000     0.000000     0.000000   \n",
       "50%       0.000000     1.000000   152.000000     0.000000     0.800000   \n",
       "75%       0.000000     1.000000   166.000000     1.000000     1.800000   \n",
       "max       1.000000     2.000000   202.000000     1.000000     6.200000   \n",
       "\n",
       "             slope           ca         thal       target  \n",
       "count  1025.000000  1025.000000  1025.000000  1025.000000  \n",
       "mean      1.385366     0.754146     2.323902     0.513171  \n",
       "std       0.617755     1.030798     0.620660     0.500070  \n",
       "min       0.000000     0.000000     0.000000     0.000000  \n",
       "25%       1.000000     0.000000     2.000000     0.000000  \n",
       "50%       1.000000     0.000000     2.000000     1.000000  \n",
       "75%       2.000000     1.000000     3.000000     1.000000  \n",
       "max       2.000000     4.000000     3.000000     1.000000  "
      ]
     },
     "execution_count": 7,
     "metadata": {},
     "output_type": "execute_result"
    }
   ],
   "source": [
    "df.describe()"
   ]
  },
  {
   "cell_type": "code",
   "execution_count": 8,
   "metadata": {},
   "outputs": [
    {
     "name": "stdout",
     "output_type": "stream",
     "text": [
      "<class 'pandas.core.frame.DataFrame'>\n",
      "RangeIndex: 1025 entries, 0 to 1024\n",
      "Data columns (total 14 columns):\n",
      " #   Column    Non-Null Count  Dtype  \n",
      "---  ------    --------------  -----  \n",
      " 0   age       1025 non-null   int64  \n",
      " 1   sex       1025 non-null   int64  \n",
      " 2   cp        1025 non-null   int64  \n",
      " 3   trestbps  1025 non-null   int64  \n",
      " 4   chol      1025 non-null   int64  \n",
      " 5   fbs       1025 non-null   int64  \n",
      " 6   restecg   1025 non-null   int64  \n",
      " 7   thalach   1025 non-null   int64  \n",
      " 8   exang     1025 non-null   int64  \n",
      " 9   oldpeak   1025 non-null   float64\n",
      " 10  slope     1025 non-null   int64  \n",
      " 11  ca        1025 non-null   int64  \n",
      " 12  thal      1025 non-null   int64  \n",
      " 13  target    1025 non-null   int64  \n",
      "dtypes: float64(1), int64(13)\n",
      "memory usage: 112.2 KB\n"
     ]
    }
   ],
   "source": [
    "df.info()"
   ]
  },
  {
   "cell_type": "markdown",
   "metadata": {},
   "source": [
    "__Exploring Data Label__"
   ]
  },
  {
   "cell_type": "code",
   "execution_count": 9,
   "metadata": {},
   "outputs": [
    {
     "data": {
      "text/plain": [
       "1    526\n",
       "0    499\n",
       "Name: target, dtype: int64"
      ]
     },
     "execution_count": 9,
     "metadata": {},
     "output_type": "execute_result"
    }
   ],
   "source": [
    "df[\"target\"].value_counts()"
   ]
  },
  {
   "cell_type": "markdown",
   "metadata": {},
   "source": [
    "__Checking Null Values__"
   ]
  },
  {
   "cell_type": "code",
   "execution_count": 10,
   "metadata": {},
   "outputs": [
    {
     "data": {
      "text/plain": [
       "age         False\n",
       "sex         False\n",
       "cp          False\n",
       "trestbps    False\n",
       "chol        False\n",
       "fbs         False\n",
       "restecg     False\n",
       "thalach     False\n",
       "exang       False\n",
       "oldpeak     False\n",
       "slope       False\n",
       "ca          False\n",
       "thal        False\n",
       "target      False\n",
       "dtype: bool"
      ]
     },
     "execution_count": 10,
     "metadata": {},
     "output_type": "execute_result"
    }
   ],
   "source": [
    "df.isnull().any()"
   ]
  },
  {
   "cell_type": "markdown",
   "metadata": {},
   "source": [
    "## Data Visualization"
   ]
  },
  {
   "cell_type": "markdown",
   "metadata": {},
   "source": [
    "Let's now visualize our dataset to better interpret it."
   ]
  },
  {
   "cell_type": "markdown",
   "metadata": {},
   "source": [
    "We need to import these libraries first."
   ]
  },
  {
   "cell_type": "code",
   "execution_count": 11,
   "metadata": {},
   "outputs": [],
   "source": [
    "import matplotlib.pyplot as plt\n",
    "import seaborn as sns"
   ]
  },
  {
   "cell_type": "markdown",
   "metadata": {},
   "source": [
    "We can set the desired graph styles for matplotlib and seaborn."
   ]
  },
  {
   "cell_type": "code",
   "execution_count": 50,
   "metadata": {},
   "outputs": [],
   "source": [
    "plt.style.use('seaborn')"
   ]
  },
  {
   "cell_type": "code",
   "execution_count": 51,
   "metadata": {},
   "outputs": [],
   "source": [
    "sns.set(rc={\"figure.facecolor\" : \"white\"})"
   ]
  },
  {
   "cell_type": "markdown",
   "metadata": {},
   "source": [
    "### Bar Graph"
   ]
  },
  {
   "cell_type": "markdown",
   "metadata": {},
   "source": [
    "Firstly, we need to check whether our dataset is balanced or not. We can do this using countplot."
   ]
  },
  {
   "cell_type": "code",
   "execution_count": 14,
   "metadata": {},
   "outputs": [
    {
     "data": {
      "image/png": "[encoded data removed]",
      "text/plain": [
       "<Figure size 432x288 with 1 Axes>"
      ]
     },
     "metadata": {
      "needs_background": "light"
     },
     "output_type": "display_data"
    }
   ],
   "source": [
    "sns.countplot(x=df[\"target\"])\n",
    "plt.show()"
   ]
  },
  {
   "cell_type": "markdown",
   "metadata": {},
   "source": [
    "Dataset is very balanced."
   ]
  },
  {
   "cell_type": "markdown",
   "metadata": {},
   "source": [
    "### Histogram"
   ]
  },
  {
   "cell_type": "markdown",
   "metadata": {},
   "source": [
    "Next, we can analyze the distribution of every numerical feature/column in our dataset. We can do this using histogram."
   ]
  },
  {
   "cell_type": "markdown",
   "metadata": {},
   "source": [
    "First of all, we can drop the **target** column."
   ]
  },
  {
   "cell_type": "code",
   "execution_count": 15,
   "metadata": {},
   "outputs": [],
   "source": [
    "df_dist = df.drop(\"target\", axis=1)"
   ]
  },
  {
   "cell_type": "code",
   "execution_count": 16,
   "metadata": {},
   "outputs": [
    {
     "data": {
      "image/png": "[encoded data removed]",
      "text/plain": [
       "<Figure size 1080x1080 with 13 Axes>"
      ]
     },
     "metadata": {
      "needs_background": "light"
     },
     "output_type": "display_data"
    }
   ],
   "source": [
    "plt.figure(figsize=(15, 15))\n",
    "\n",
    "for count, column in enumerate(df_dist.columns):\n",
    "    plt.subplot(5, 3, count+1)\n",
    "    plt.hist(df_dist[column])\n",
    "    ax = plt.gca()\n",
    "    ax.get_yaxis().set_visible(False)\n",
    "    plt.xlabel(column)\n",
    "    plt.tight_layout()\n",
    "\n",
    "plt.show()"
   ]
  },
  {
   "cell_type": "markdown",
   "metadata": {},
   "source": [
    "Through this multi-histogram visualization, we can analyze the distribution of every column in the dataset, such as the range, maximum and minimum value, and also the trend of the data."
   ]
  },
  {
   "cell_type": "markdown",
   "metadata": {},
   "source": [
    "### Boxplot"
   ]
  },
  {
   "cell_type": "markdown",
   "metadata": {},
   "source": [
    "After that, we can use a box plot to analyze the range and distribution of every column in our dataset based on a five number summary (“minimum”, first quartile (Q1), median, third quartile (Q3), and “maximum”). It can tell you about your outliers and what their values are."
   ]
  },
  {
   "cell_type": "markdown",
   "metadata": {},
   "source": [
    "Below is the visualization of boxplot for every feature."
   ]
  },
  {
   "cell_type": "code",
   "execution_count": 17,
   "metadata": {},
   "outputs": [
    {
     "data": {
      "image/png": "[encoded data removed]",
      "text/plain": [
       "<Figure size 1080x1080 with 13 Axes>"
      ]
     },
     "metadata": {
      "needs_background": "light"
     },
     "output_type": "display_data"
    }
   ],
   "source": [
    "plt.figure(figsize=(15, 15))\n",
    "\n",
    "for count, column in enumerate(df_dist.columns):\n",
    "    plt.subplot(5, 3, count+1)\n",
    "    sns.boxplot(data=df_dist[column])\n",
    "    plt.xlabel(column)\n",
    "    plt.ylabel(\"Scale\")\n",
    "    plt.tight_layout()\n",
    "\n",
    "plt.show()"
   ]
  },
  {
   "cell_type": "markdown",
   "metadata": {},
   "source": [
    "The dataset has very little outliers as seen from the graph."
   ]
  },
  {
   "cell_type": "markdown",
   "metadata": {},
   "source": [
    "### Heat Map"
   ]
  },
  {
   "cell_type": "markdown",
   "metadata": {},
   "source": [
    "We will use a heatmap to visualize the features that has the highest correlation with the target variable."
   ]
  },
  {
   "cell_type": "markdown",
   "metadata": {},
   "source": [
    "The following code aims to:\n",
    "1. Find every column's correlation with the target variable.\n",
    "2. Give the columns a name.\n",
    "3. Drop irrelevant row, which is the target variable itself.\n",
    "4. Sort Values in descending order.\n",
    "5. Reset Index, and drop the extra column created."
   ]
  },
  {
   "cell_type": "code",
   "execution_count": 18,
   "metadata": {},
   "outputs": [],
   "source": [
    "corr = df.corrwith(df[\"target\"]).reset_index()\n",
    "corr.columns = [\"Feature\", \"Corr Value\"]\n",
    "corr.drop(13, inplace=True)\n",
    "corr.sort_values(by=\"Corr Value\", ascending=False, inplace=True)\n",
    "corr.reset_index(inplace=True)\n",
    "corr.drop(\"index\", axis=1, inplace=True)"
   ]
  },
  {
   "cell_type": "markdown",
   "metadata": {},
   "source": [
    "In order to visualize this in a heatmap, we need to set the index of the dataframe as the features. We can then rename the columns for better understanding."
   ]
  },
  {
   "cell_type": "code",
   "execution_count": 19,
   "metadata": {},
   "outputs": [],
   "source": [
    "corr.set_index(\"Feature\", inplace=True)\n",
    "corr.columns = [\"Diagnosis\"]"
   ]
  },
  {
   "cell_type": "code",
   "execution_count": 20,
   "metadata": {},
   "outputs": [
    {
     "data": {
      "text/html": [
       "<div>\n",
       "<style scoped>\n",
       "    .dataframe tbody tr th:only-of-type {\n",
       "        vertical-align: middle;\n",
       "    }\n",
       "\n",
       "    .dataframe tbody tr th {\n",
       "        vertical-align: top;\n",
       "    }\n",
       "\n",
       "    .dataframe thead th {\n",
       "        text-align: right;\n",
       "    }\n",
       "</style>\n",
       "<table border=\"1\" class=\"dataframe\">\n",
       "  <thead>\n",
       "    <tr style=\"text-align: right;\">\n",
       "      <th></th>\n",
       "      <th>Diagnosis</th>\n",
       "    </tr>\n",
       "    <tr>\n",
       "      <th>Feature</th>\n",
       "      <th></th>\n",
       "    </tr>\n",
       "  </thead>\n",
       "  <tbody>\n",
       "    <tr>\n",
       "      <th>cp</th>\n",
       "      <td>0.434854</td>\n",
       "    </tr>\n",
       "    <tr>\n",
       "      <th>thalach</th>\n",
       "      <td>0.422895</td>\n",
       "    </tr>\n",
       "    <tr>\n",
       "      <th>slope</th>\n",
       "      <td>0.345512</td>\n",
       "    </tr>\n",
       "    <tr>\n",
       "      <th>restecg</th>\n",
       "      <td>0.134468</td>\n",
       "    </tr>\n",
       "    <tr>\n",
       "      <th>fbs</th>\n",
       "      <td>-0.041164</td>\n",
       "    </tr>\n",
       "    <tr>\n",
       "      <th>chol</th>\n",
       "      <td>-0.099966</td>\n",
       "    </tr>\n",
       "    <tr>\n",
       "      <th>trestbps</th>\n",
       "      <td>-0.138772</td>\n",
       "    </tr>\n",
       "    <tr>\n",
       "      <th>age</th>\n",
       "      <td>-0.229324</td>\n",
       "    </tr>\n",
       "    <tr>\n",
       "      <th>sex</th>\n",
       "      <td>-0.279501</td>\n",
       "    </tr>\n",
       "    <tr>\n",
       "      <th>thal</th>\n",
       "      <td>-0.337838</td>\n",
       "    </tr>\n",
       "    <tr>\n",
       "      <th>ca</th>\n",
       "      <td>-0.382085</td>\n",
       "    </tr>\n",
       "    <tr>\n",
       "      <th>exang</th>\n",
       "      <td>-0.438029</td>\n",
       "    </tr>\n",
       "    <tr>\n",
       "      <th>oldpeak</th>\n",
       "      <td>-0.438441</td>\n",
       "    </tr>\n",
       "  </tbody>\n",
       "</table>\n",
       "</div>"
      ],
      "text/plain": [
       "          Diagnosis\n",
       "Feature            \n",
       "cp         0.434854\n",
       "thalach    0.422895\n",
       "slope      0.345512\n",
       "restecg    0.134468\n",
       "fbs       -0.041164\n",
       "chol      -0.099966\n",
       "trestbps  -0.138772\n",
       "age       -0.229324\n",
       "sex       -0.279501\n",
       "thal      -0.337838\n",
       "ca        -0.382085\n",
       "exang     -0.438029\n",
       "oldpeak   -0.438441"
      ]
     },
     "execution_count": 20,
     "metadata": {},
     "output_type": "execute_result"
    }
   ],
   "source": [
    "corr"
   ]
  },
  {
   "cell_type": "markdown",
   "metadata": {},
   "source": [
    "Because the features all have a low correlation, which is less than 0.5, we shouldn't drop any features at first, as every feature matters in this case."
   ]
  },
  {
   "cell_type": "markdown",
   "metadata": {},
   "source": [
    "**Visualize in a HeatMap**"
   ]
  },
  {
   "cell_type": "code",
   "execution_count": 21,
   "metadata": {},
   "outputs": [
    {
     "data": {
      "image/png": "[encoded data removed]",
      "text/plain": [
       "<Figure size 288x504 with 2 Axes>"
      ]
     },
     "metadata": {
      "needs_background": "light"
     },
     "output_type": "display_data"
    }
   ],
   "source": [
    "plt.figure(figsize=(4, 7))\n",
    "sns.heatmap(data=corr, cmap=\"Greens\", annot=True)\n",
    "plt.show()"
   ]
  },
  {
   "cell_type": "markdown",
   "metadata": {},
   "source": [
    "### Scatter Plot"
   ]
  },
  {
   "cell_type": "markdown",
   "metadata": {},
   "source": [
    "We can try to see the relationship/correlation for every feature with the target variable."
   ]
  },
  {
   "cell_type": "code",
   "execution_count": 22,
   "metadata": {},
   "outputs": [
    {
     "data": {
      "image/png": "[encoded data removed]",
      "text/plain": [
       "<Figure size 1080x1080 with 13 Axes>"
      ]
     },
     "metadata": {
      "needs_background": "light"
     },
     "output_type": "display_data"
    }
   ],
   "source": [
    "plt.figure(figsize=(15, 15))\n",
    "\n",
    "for count, column in enumerate(corr.index):\n",
    "    plt.subplot(5, 3, count+1)\n",
    "    plt.scatter(x=df[column], y=df[\"target\"])\n",
    "    plt.xlabel(column)\n",
    "    plt.ylabel(\"Diagnosis\")\n",
    "    plt.tight_layout()\n",
    "\n",
    "plt.show()"
   ]
  },
  {
   "cell_type": "markdown",
   "metadata": {},
   "source": [
    "## Data Pre-Processing"
   ]
  },
  {
   "cell_type": "markdown",
   "metadata": {},
   "source": [
    "This is where we will conduct:\n",
    "1. Preparing our Features and Labels\n",
    "2. Splitting them into Training and Test Set.\n",
    "3. Feature Scaling"
   ]
  },
  {
   "cell_type": "markdown",
   "metadata": {},
   "source": [
    "__Preparing our Features and Labels__"
   ]
  },
  {
   "cell_type": "code",
   "execution_count": 23,
   "metadata": {},
   "outputs": [],
   "source": [
    "features = df[corr.index]\n",
    "label = df[\"target\"]"
   ]
  },
  {
   "cell_type": "markdown",
   "metadata": {},
   "source": [
    "**Splitting them into Training and Test Set.**"
   ]
  },
  {
   "cell_type": "code",
   "execution_count": 24,
   "metadata": {},
   "outputs": [],
   "source": [
    "from sklearn.model_selection import train_test_split"
   ]
  },
  {
   "cell_type": "code",
   "execution_count": 25,
   "metadata": {},
   "outputs": [],
   "source": [
    "x_train, x_test, y_train, y_test = train_test_split(features, label,\n",
    "                                     test_size = 0.25, random_state = 22)"
   ]
  },
  {
   "cell_type": "code",
   "execution_count": 26,
   "metadata": {},
   "outputs": [
    {
     "name": "stdout",
     "output_type": "stream",
     "text": [
      "(768, 13)\n",
      "(257, 13)\n",
      "(768,)\n",
      "(257,)\n"
     ]
    }
   ],
   "source": [
    "print(x_train.shape)\n",
    "print(x_test.shape)\n",
    "print(y_train.shape)\n",
    "print(y_test.shape)"
   ]
  },
  {
   "cell_type": "markdown",
   "metadata": {},
   "source": [
    "**Feature Scaling**"
   ]
  },
  {
   "cell_type": "code",
   "execution_count": 27,
   "metadata": {},
   "outputs": [],
   "source": [
    "from sklearn.preprocessing import StandardScaler"
   ]
  },
  {
   "cell_type": "code",
   "execution_count": 28,
   "metadata": {},
   "outputs": [],
   "source": [
    "sc = StandardScaler()\n",
    "x_train = sc.fit_transform(x_train)\n",
    "x_test = sc.transform(x_test)"
   ]
  },
  {
   "cell_type": "markdown",
   "metadata": {},
   "source": [
    "## Data Modeling"
   ]
  },
  {
   "cell_type": "markdown",
   "metadata": {},
   "source": [
    "Over here, we want to compare which approach to solving this problem is better, Machine learning or Deep Learning.."
   ]
  },
  {
   "cell_type": "markdown",
   "metadata": {},
   "source": [
    "### ML Approach"
   ]
  },
  {
   "cell_type": "markdown",
   "metadata": {},
   "source": [
    "For ML Approach, I'll be using Random Forest Classifier, so import the module from sklearn library."
   ]
  },
  {
   "cell_type": "code",
   "execution_count": 29,
   "metadata": {},
   "outputs": [],
   "source": [
    "from sklearn.ensemble import RandomForestClassifier"
   ]
  },
  {
   "cell_type": "code",
   "execution_count": 30,
   "metadata": {},
   "outputs": [
    {
     "data": {
      "text/html": [
       "<style>#sk-container-id-1 {color: black;background-color: white;}#sk-container-id-1 pre{padding: 0;}#sk-container-id-1 div.sk-toggleable {background-color: white;}#sk-container-id-1 label.sk-toggleable__label {cursor: pointer;display: block;width: 100%;margin-bottom: 0;padding: 0.3em;box-sizing: border-box;text-align: center;}#sk-container-id-1 label.sk-toggleable__label-arrow:before {content: \"▸\";float: left;margin-right: 0.25em;color: #696969;}#sk-container-id-1 label.sk-toggleable__label-arrow:hover:before {color: black;}#sk-container-id-1 div.sk-estimator:hover label.sk-toggleable__label-arrow:before {color: black;}#sk-container-id-1 div.sk-toggleable__content {max-height: 0;max-width: 0;overflow: hidden;text-align: left;background-color: #f0f8ff;}#sk-container-id-1 div.sk-toggleable__content pre {margin: 0.2em;color: black;border-radius: 0.25em;background-color: #f0f8ff;}#sk-container-id-1 input.sk-toggleable__control:checked~div.sk-toggleable__content {max-height: 200px;max-width: 100%;overflow: auto;}#sk-container-id-1 input.sk-toggleable__control:checked~label.sk-toggleable__label-arrow:before {content: \"▾\";}#sk-container-id-1 div.sk-estimator input.sk-toggleable__control:checked~label.sk-toggleable__label {background-color: #d4ebff;}#sk-container-id-1 div.sk-label input.sk-toggleable__control:checked~label.sk-toggleable__label {background-color: #d4ebff;}#sk-container-id-1 input.sk-hidden--visually {border: 0;clip: rect(1px 1px 1px 1px);clip: rect(1px, 1px, 1px, 1px);height: 1px;margin: -1px;overflow: hidden;padding: 0;position: absolute;width: 1px;}#sk-container-id-1 div.sk-estimator {font-family: monospace;background-color: #f0f8ff;border: 1px dotted black;border-radius: 0.25em;box-sizing: border-box;margin-bottom: 0.5em;}#sk-container-id-1 div.sk-estimator:hover {background-color: #d4ebff;}#sk-container-id-1 div.sk-parallel-item::after {content: \"\";width: 100%;border-bottom: 1px solid gray;flex-grow: 1;}#sk-container-id-1 div.sk-label:hover label.sk-toggleable__label {background-color: #d4ebff;}#sk-container-id-1 div.sk-serial::before {content: \"\";position: absolute;border-left: 1px solid gray;box-sizing: border-box;top: 0;bottom: 0;left: 50%;z-index: 0;}#sk-container-id-1 div.sk-serial {display: flex;flex-direction: column;align-items: center;background-color: white;padding-right: 0.2em;padding-left: 0.2em;position: relative;}#sk-container-id-1 div.sk-item {position: relative;z-index: 1;}#sk-container-id-1 div.sk-parallel {display: flex;align-items: stretch;justify-content: center;background-color: white;position: relative;}#sk-container-id-1 div.sk-item::before, #sk-container-id-1 div.sk-parallel-item::before {content: \"\";position: absolute;border-left: 1px solid gray;box-sizing: border-box;top: 0;bottom: 0;left: 50%;z-index: -1;}#sk-container-id-1 div.sk-parallel-item {display: flex;flex-direction: column;z-index: 1;position: relative;background-color: white;}#sk-container-id-1 div.sk-parallel-item:first-child::after {align-self: flex-end;width: 50%;}#sk-container-id-1 div.sk-parallel-item:last-child::after {align-self: flex-start;width: 50%;}#sk-container-id-1 div.sk-parallel-item:only-child::after {width: 0;}#sk-container-id-1 div.sk-dashed-wrapped {border: 1px dashed gray;margin: 0 0.4em 0.5em 0.4em;box-sizing: border-box;padding-bottom: 0.4em;background-color: white;}#sk-container-id-1 div.sk-label label {font-family: monospace;font-weight: bold;display: inline-block;line-height: 1.2em;}#sk-container-id-1 div.sk-label-container {text-align: center;}#sk-container-id-1 div.sk-container {/* jupyter's `normalize.less` sets `[hidden] { display: none; }` but bootstrap.min.css set `[hidden] { display: none !important; }` so we also need the `!important` here to be able to override the default hidden behavior on the sphinx rendered scikit-learn.org. See: https://github.com/scikit-learn/scikit-learn/issues/21755 */display: inline-block !important;position: relative;}#sk-container-id-1 div.sk-text-repr-fallback {display: none;}</style><div id=\"sk-container-id-1\" class=\"sk-top-container\"><div class=\"sk-text-repr-fallback\"><pre>RandomForestClassifier(random_state=22)</pre><b>In a Jupyter environment, please rerun this cell to show the HTML representation or trust the notebook. <br />On GitHub, the HTML representation is unable to render, please try loading this page with nbviewer.org.</b></div><div class=\"sk-container\" hidden><div class=\"sk-item\"><div class=\"sk-estimator sk-toggleable\"><input class=\"sk-toggleable__control sk-hidden--visually\" id=\"sk-estimator-id-1\" type=\"checkbox\" checked><label for=\"sk-estimator-id-1\" class=\"sk-toggleable__label sk-toggleable__label-arrow\">RandomForestClassifier</label><div class=\"sk-toggleable__content\"><pre>RandomForestClassifier(random_state=22)</pre></div></div></div></div></div>"
      ],
      "text/plain": [
       "RandomForestClassifier(random_state=22)"
      ]
     },
     "execution_count": 30,
     "metadata": {},
     "output_type": "execute_result"
    }
   ],
   "source": [
    "rfc = RandomForestClassifier(\n",
    "    random_state=22\n",
    ")\n",
    "rfc.fit(x_train, y_train)"
   ]
  },
  {
   "cell_type": "code",
   "execution_count": 31,
   "metadata": {},
   "outputs": [
    {
     "data": {
      "text/plain": [
       "1.0"
      ]
     },
     "execution_count": 31,
     "metadata": {},
     "output_type": "execute_result"
    }
   ],
   "source": [
    "rfc.score(x_test, y_test)"
   ]
  },
  {
   "cell_type": "markdown",
   "metadata": {},
   "source": [
    "We can see here that our Machine Learning model performs very good, giving us an accuracy of 100 %."
   ]
  },
  {
   "cell_type": "markdown",
   "metadata": {},
   "source": [
    "### DL Approach"
   ]
  },
  {
   "cell_type": "markdown",
   "metadata": {},
   "source": [
    "We will be using the sequential model for training a neural network in Deep Learning."
   ]
  },
  {
   "cell_type": "markdown",
   "metadata": {},
   "source": [
    "Import these libaries beforehand."
   ]
  },
  {
   "cell_type": "code",
   "execution_count": 32,
   "metadata": {},
   "outputs": [],
   "source": [
    "from keras.models import Sequential\n",
    "from keras.layers import Dense"
   ]
  },
  {
   "cell_type": "markdown",
   "metadata": {},
   "source": [
    "Initialize your model, then start creating Dense Layers. Over here I am using:\n",
    "- 1 Input Layer\n",
    "- 2 Hidden Layers\n",
    "- 1 Output Layer\n",
    "\n",
    "For the hyperparameters, this link can serve as a reference.\n",
    "\n",
    "https://towardsdatascience.com/17-rules-of-thumb-for-building-a-neural-network-93356f9930af\n"
   ]
  },
  {
   "cell_type": "code",
   "execution_count": 33,
   "metadata": {},
   "outputs": [],
   "source": [
    "ann = Sequential()\n",
    "ann.add(Dense(units=8, activation=\"relu\", input_dim=13))\n",
    "ann.add(Dense(units=4, activation=\"relu\"))\n",
    "ann.add(Dense(units=1, activation=\"sigmoid\"))\n",
    "ann.compile(optimizer=\"adam\", loss=\"binary_crossentropy\", \n",
    "            metrics=[\"accuracy\"])"
   ]
  },
  {
   "cell_type": "markdown",
   "metadata": {},
   "source": [
    "I am using sigmoid activation function and binary crossentropy loss function because we are classifying binary labels."
   ]
  },
  {
   "cell_type": "code",
   "execution_count": 34,
   "metadata": {},
   "outputs": [
    {
     "name": "stdout",
     "output_type": "stream",
     "text": [
      "Model: \"sequential\"\n",
      "_________________________________________________________________\n",
      " Layer (type)                Output Shape              Param #   \n",
      "=================================================================\n",
      " dense (Dense)               (None, 8)                 112       \n",
      "                                                                 \n",
      " dense_1 (Dense)             (None, 4)                 36        \n",
      "                                                                 \n",
      " dense_2 (Dense)             (None, 1)                 5         \n",
      "                                                                 \n",
      "=================================================================\n",
      "Total params: 153\n",
      "Trainable params: 153\n",
      "Non-trainable params: 0\n",
      "_________________________________________________________________\n"
     ]
    }
   ],
   "source": [
    "ann.summary()"
   ]
  },
  {
   "cell_type": "markdown",
   "metadata": {},
   "source": [
    "Then, we can experiment using 2 different batch sizes, which are 16 and 128."
   ]
  },
  {
   "cell_type": "markdown",
   "metadata": {},
   "source": [
    "And over here I am using 100 as the epoch, because there aren't any minimal results with epoch 20."
   ]
  },
  {
   "cell_type": "code",
   "execution_count": 35,
   "metadata": {},
   "outputs": [
    {
     "name": "stdout",
     "output_type": "stream",
     "text": [
      "Epoch 1/100\n",
      "48/48 [==============================] - 7s 3ms/step - loss: 0.8160 - accuracy: 0.4974\n",
      "Epoch 2/100\n",
      "48/48 [==============================] - 0s 2ms/step - loss: 0.7179 - accuracy: 0.5104\n",
      "Epoch 3/100\n",
      "48/48 [==============================] - 0s 2ms/step - loss: 0.6705 - accuracy: 0.5742\n",
      "Epoch 4/100\n",
      "48/48 [==============================] - 0s 3ms/step - loss: 0.6389 - accuracy: 0.5964\n",
      "Epoch 5/100\n",
      "48/48 [==============================] - 0s 3ms/step - loss: 0.6119 - accuracy: 0.6367\n",
      "Epoch 6/100\n",
      "48/48 [==============================] - 0s 3ms/step - loss: 0.5877 - accuracy: 0.6992\n",
      "Epoch 7/100\n",
      "48/48 [==============================] - 0s 3ms/step - loss: 0.5607 - accuracy: 0.7591\n",
      "Epoch 8/100\n",
      "48/48 [==============================] - 0s 2ms/step - loss: 0.5257 - accuracy: 0.7930\n",
      "Epoch 9/100\n",
      "48/48 [==============================] - 0s 3ms/step - loss: 0.4765 - accuracy: 0.8203\n",
      "Epoch 10/100\n",
      "48/48 [==============================] - 0s 3ms/step - loss: 0.4334 - accuracy: 0.8164\n",
      "Epoch 11/100\n",
      "48/48 [==============================] - 0s 4ms/step - loss: 0.4060 - accuracy: 0.8151\n",
      "Epoch 12/100\n",
      "48/48 [==============================] - 0s 4ms/step - loss: 0.3860 - accuracy: 0.8268\n",
      "Epoch 13/100\n",
      "48/48 [==============================] - 0s 3ms/step - loss: 0.3704 - accuracy: 0.8346\n",
      "Epoch 14/100\n",
      "48/48 [==============================] - 0s 3ms/step - loss: 0.3584 - accuracy: 0.8477\n",
      "Epoch 15/100\n",
      "48/48 [==============================] - 0s 3ms/step - loss: 0.3486 - accuracy: 0.8542\n",
      "Epoch 16/100\n",
      "48/48 [==============================] - 0s 3ms/step - loss: 0.3410 - accuracy: 0.8568\n",
      "Epoch 17/100\n",
      "48/48 [==============================] - 0s 3ms/step - loss: 0.3347 - accuracy: 0.8581\n",
      "Epoch 18/100\n",
      "48/48 [==============================] - 0s 2ms/step - loss: 0.3298 - accuracy: 0.8581\n",
      "Epoch 19/100\n",
      "48/48 [==============================] - 0s 2ms/step - loss: 0.3245 - accuracy: 0.8555\n",
      "Epoch 20/100\n",
      "48/48 [==============================] - 0s 2ms/step - loss: 0.3196 - accuracy: 0.8581\n",
      "Epoch 21/100\n",
      "48/48 [==============================] - 0s 2ms/step - loss: 0.3157 - accuracy: 0.8568\n",
      "Epoch 22/100\n",
      "48/48 [==============================] - 0s 2ms/step - loss: 0.3120 - accuracy: 0.8633\n",
      "Epoch 23/100\n",
      "48/48 [==============================] - 0s 2ms/step - loss: 0.3083 - accuracy: 0.8685\n",
      "Epoch 24/100\n",
      "48/48 [==============================] - 0s 2ms/step - loss: 0.3054 - accuracy: 0.8698\n",
      "Epoch 25/100\n",
      "48/48 [==============================] - 0s 2ms/step - loss: 0.3018 - accuracy: 0.8724\n",
      "Epoch 26/100\n",
      "48/48 [==============================] - 0s 2ms/step - loss: 0.2985 - accuracy: 0.8763\n",
      "Epoch 27/100\n",
      "48/48 [==============================] - 0s 3ms/step - loss: 0.2958 - accuracy: 0.8789\n",
      "Epoch 28/100\n",
      "48/48 [==============================] - 0s 2ms/step - loss: 0.2927 - accuracy: 0.8815\n",
      "Epoch 29/100\n",
      "48/48 [==============================] - 0s 2ms/step - loss: 0.2895 - accuracy: 0.8789\n",
      "Epoch 30/100\n",
      "48/48 [==============================] - 0s 2ms/step - loss: 0.2862 - accuracy: 0.8854\n",
      "Epoch 31/100\n",
      "48/48 [==============================] - 0s 4ms/step - loss: 0.2834 - accuracy: 0.8867\n",
      "Epoch 32/100\n",
      "48/48 [==============================] - 0s 4ms/step - loss: 0.2799 - accuracy: 0.8984\n",
      "Epoch 33/100\n",
      "48/48 [==============================] - 0s 3ms/step - loss: 0.2776 - accuracy: 0.8932\n",
      "Epoch 34/100\n",
      "48/48 [==============================] - 0s 3ms/step - loss: 0.2750 - accuracy: 0.8984\n",
      "Epoch 35/100\n",
      "48/48 [==============================] - 0s 3ms/step - loss: 0.2727 - accuracy: 0.8945\n",
      "Epoch 36/100\n",
      "48/48 [==============================] - 0s 3ms/step - loss: 0.2700 - accuracy: 0.8958\n",
      "Epoch 37/100\n",
      "48/48 [==============================] - 0s 3ms/step - loss: 0.2673 - accuracy: 0.8958\n",
      "Epoch 38/100\n",
      "48/48 [==============================] - 0s 3ms/step - loss: 0.2653 - accuracy: 0.8932\n",
      "Epoch 39/100\n",
      "48/48 [==============================] - 0s 3ms/step - loss: 0.2633 - accuracy: 0.9036\n",
      "Epoch 40/100\n",
      "48/48 [==============================] - 0s 3ms/step - loss: 0.2607 - accuracy: 0.9062\n",
      "Epoch 41/100\n",
      "48/48 [==============================] - 0s 2ms/step - loss: 0.2585 - accuracy: 0.9180\n",
      "Epoch 42/100\n",
      "48/48 [==============================] - 0s 3ms/step - loss: 0.2558 - accuracy: 0.9167\n",
      "Epoch 43/100\n",
      "48/48 [==============================] - 0s 3ms/step - loss: 0.2533 - accuracy: 0.9206\n",
      "Epoch 44/100\n",
      "48/48 [==============================] - 0s 3ms/step - loss: 0.2526 - accuracy: 0.9232\n",
      "Epoch 45/100\n",
      "48/48 [==============================] - 0s 3ms/step - loss: 0.2502 - accuracy: 0.9154\n",
      "Epoch 46/100\n",
      "48/48 [==============================] - 0s 3ms/step - loss: 0.2478 - accuracy: 0.9193\n",
      "Epoch 47/100\n",
      "48/48 [==============================] - 0s 3ms/step - loss: 0.2459 - accuracy: 0.9193\n",
      "Epoch 48/100\n",
      "48/48 [==============================] - 0s 3ms/step - loss: 0.2442 - accuracy: 0.9219\n",
      "Epoch 49/100\n",
      "48/48 [==============================] - 0s 2ms/step - loss: 0.2426 - accuracy: 0.9219\n",
      "Epoch 50/100\n",
      "48/48 [==============================] - 0s 2ms/step - loss: 0.2407 - accuracy: 0.9193\n",
      "Epoch 51/100\n",
      "48/48 [==============================] - 0s 4ms/step - loss: 0.2393 - accuracy: 0.9219\n",
      "Epoch 52/100\n",
      "48/48 [==============================] - 0s 3ms/step - loss: 0.2376 - accuracy: 0.9206\n",
      "Epoch 53/100\n",
      "48/48 [==============================] - 0s 5ms/step - loss: 0.2362 - accuracy: 0.9206\n",
      "Epoch 54/100\n",
      "48/48 [==============================] - 0s 4ms/step - loss: 0.2344 - accuracy: 0.9258\n",
      "Epoch 55/100\n",
      "48/48 [==============================] - 0s 3ms/step - loss: 0.2328 - accuracy: 0.9245\n",
      "Epoch 56/100\n",
      "48/48 [==============================] - 0s 3ms/step - loss: 0.2308 - accuracy: 0.9284\n",
      "Epoch 57/100\n",
      "48/48 [==============================] - 0s 3ms/step - loss: 0.2295 - accuracy: 0.9219\n",
      "Epoch 58/100\n",
      "48/48 [==============================] - 0s 3ms/step - loss: 0.2276 - accuracy: 0.9271\n",
      "Epoch 59/100\n",
      "48/48 [==============================] - 0s 3ms/step - loss: 0.2263 - accuracy: 0.9258\n",
      "Epoch 60/100\n",
      "48/48 [==============================] - 0s 3ms/step - loss: 0.2245 - accuracy: 0.9193\n",
      "Epoch 61/100\n",
      "48/48 [==============================] - 0s 3ms/step - loss: 0.2230 - accuracy: 0.9206\n",
      "Epoch 62/100\n",
      "48/48 [==============================] - 0s 3ms/step - loss: 0.2211 - accuracy: 0.9180\n",
      "Epoch 63/100\n",
      "48/48 [==============================] - 0s 3ms/step - loss: 0.2194 - accuracy: 0.9219\n",
      "Epoch 64/100\n",
      "48/48 [==============================] - 0s 3ms/step - loss: 0.2182 - accuracy: 0.9232\n",
      "Epoch 65/100\n",
      "48/48 [==============================] - 0s 3ms/step - loss: 0.2156 - accuracy: 0.9245\n",
      "Epoch 66/100\n",
      "48/48 [==============================] - 0s 3ms/step - loss: 0.2140 - accuracy: 0.9271\n",
      "Epoch 67/100\n",
      "48/48 [==============================] - 0s 3ms/step - loss: 0.2140 - accuracy: 0.9271\n",
      "Epoch 68/100\n",
      "48/48 [==============================] - 0s 3ms/step - loss: 0.2113 - accuracy: 0.9297\n",
      "Epoch 69/100\n",
      "48/48 [==============================] - 0s 3ms/step - loss: 0.2096 - accuracy: 0.9258\n",
      "Epoch 70/100\n",
      "48/48 [==============================] - 0s 3ms/step - loss: 0.2088 - accuracy: 0.9284\n",
      "Epoch 71/100\n",
      "48/48 [==============================] - 0s 3ms/step - loss: 0.2070 - accuracy: 0.9297\n",
      "Epoch 72/100\n",
      "48/48 [==============================] - 0s 3ms/step - loss: 0.2060 - accuracy: 0.9284\n",
      "Epoch 73/100\n",
      "48/48 [==============================] - 0s 3ms/step - loss: 0.2045 - accuracy: 0.9310\n",
      "Epoch 74/100\n",
      "48/48 [==============================] - 0s 3ms/step - loss: 0.2032 - accuracy: 0.9349\n",
      "Epoch 75/100\n",
      "48/48 [==============================] - 0s 3ms/step - loss: 0.2015 - accuracy: 0.9271\n",
      "Epoch 76/100\n",
      "48/48 [==============================] - 0s 3ms/step - loss: 0.2002 - accuracy: 0.9336\n",
      "Epoch 77/100\n",
      "48/48 [==============================] - 0s 3ms/step - loss: 0.1983 - accuracy: 0.9297\n",
      "Epoch 78/100\n",
      "48/48 [==============================] - 0s 3ms/step - loss: 0.1977 - accuracy: 0.9297\n",
      "Epoch 79/100\n",
      "48/48 [==============================] - 0s 3ms/step - loss: 0.1968 - accuracy: 0.9310\n",
      "Epoch 80/100\n",
      "48/48 [==============================] - 0s 3ms/step - loss: 0.1943 - accuracy: 0.9362\n",
      "Epoch 81/100\n",
      "48/48 [==============================] - 0s 3ms/step - loss: 0.1930 - accuracy: 0.9401\n",
      "Epoch 82/100\n",
      "48/48 [==============================] - 0s 3ms/step - loss: 0.1923 - accuracy: 0.9375\n",
      "Epoch 83/100\n",
      "48/48 [==============================] - 0s 3ms/step - loss: 0.1904 - accuracy: 0.9401\n",
      "Epoch 84/100\n",
      "48/48 [==============================] - 0s 4ms/step - loss: 0.1897 - accuracy: 0.9427\n",
      "Epoch 85/100\n",
      "48/48 [==============================] - 0s 4ms/step - loss: 0.1880 - accuracy: 0.9453\n",
      "Epoch 86/100\n",
      "48/48 [==============================] - 0s 3ms/step - loss: 0.1871 - accuracy: 0.9440\n",
      "Epoch 87/100\n",
      "48/48 [==============================] - 0s 3ms/step - loss: 0.1853 - accuracy: 0.9453\n",
      "Epoch 88/100\n",
      "48/48 [==============================] - 0s 3ms/step - loss: 0.1846 - accuracy: 0.9427\n",
      "Epoch 89/100\n",
      "48/48 [==============================] - 0s 3ms/step - loss: 0.1829 - accuracy: 0.9414\n",
      "Epoch 90/100\n",
      "48/48 [==============================] - 0s 3ms/step - loss: 0.1817 - accuracy: 0.9427\n",
      "Epoch 91/100\n",
      "48/48 [==============================] - 0s 3ms/step - loss: 0.1808 - accuracy: 0.9414\n",
      "Epoch 92/100\n",
      "48/48 [==============================] - 0s 3ms/step - loss: 0.1801 - accuracy: 0.9414\n",
      "Epoch 93/100\n",
      "48/48 [==============================] - 0s 4ms/step - loss: 0.1774 - accuracy: 0.9440\n",
      "Epoch 94/100\n",
      "48/48 [==============================] - 0s 4ms/step - loss: 0.1760 - accuracy: 0.9427\n",
      "Epoch 95/100\n",
      "48/48 [==============================] - 0s 2ms/step - loss: 0.1752 - accuracy: 0.9414\n",
      "Epoch 96/100\n",
      "48/48 [==============================] - 0s 2ms/step - loss: 0.1739 - accuracy: 0.9479\n",
      "Epoch 97/100\n",
      "48/48 [==============================] - 0s 4ms/step - loss: 0.1723 - accuracy: 0.9492\n",
      "Epoch 98/100\n",
      "48/48 [==============================] - 0s 2ms/step - loss: 0.1711 - accuracy: 0.9414\n",
      "Epoch 99/100\n",
      "48/48 [==============================] - 0s 2ms/step - loss: 0.1699 - accuracy: 0.9505\n",
      "Epoch 100/100\n",
      "48/48 [==============================] - 0s 2ms/step - loss: 0.1689 - accuracy: 0.9492\n"
     ]
    }
   ],
   "source": [
    "history_16 = ann.fit(x_train, y_train, epochs=100, batch_size=16)"
   ]
  },
  {
   "cell_type": "markdown",
   "metadata": {},
   "source": [
    "Now for batch size 128."
   ]
  },
  {
   "cell_type": "code",
   "execution_count": 36,
   "metadata": {},
   "outputs": [],
   "source": [
    "ann2 = Sequential()\n",
    "ann2.add(Dense(units=8, activation=\"relu\", input_dim=13))\n",
    "ann2.add(Dense(units=4, activation=\"relu\"))\n",
    "ann2.add(Dense(units=1, activation=\"sigmoid\"))\n",
    "ann2.compile(optimizer=\"adam\", loss=\"binary_crossentropy\", \n",
    "            metrics=[\"accuracy\"])"
   ]
  },
  {
   "cell_type": "code",
   "execution_count": 37,
   "metadata": {},
   "outputs": [
    {
     "name": "stdout",
     "output_type": "stream",
     "text": [
      "Epoch 1/100\n",
      "6/6 [==============================] - 1s 4ms/step - loss: 0.7362 - accuracy: 0.4935\n",
      "Epoch 2/100\n",
      "6/6 [==============================] - 0s 5ms/step - loss: 0.7142 - accuracy: 0.5013\n",
      "Epoch 3/100\n",
      "6/6 [==============================] - 0s 4ms/step - loss: 0.6948 - accuracy: 0.5013\n",
      "Epoch 4/100\n",
      "6/6 [==============================] - 0s 4ms/step - loss: 0.6771 - accuracy: 0.5117\n",
      "Epoch 5/100\n",
      "6/6 [==============================] - 0s 4ms/step - loss: 0.6623 - accuracy: 0.5208\n",
      "Epoch 6/100\n",
      "6/6 [==============================] - 0s 4ms/step - loss: 0.6484 - accuracy: 0.5365\n",
      "Epoch 7/100\n",
      "6/6 [==============================] - 0s 5ms/step - loss: 0.6360 - accuracy: 0.5508\n",
      "Epoch 8/100\n",
      "6/6 [==============================] - 0s 4ms/step - loss: 0.6251 - accuracy: 0.5560\n",
      "Epoch 9/100\n",
      "6/6 [==============================] - 0s 4ms/step - loss: 0.6150 - accuracy: 0.5625\n",
      "Epoch 10/100\n",
      "6/6 [==============================] - 0s 4ms/step - loss: 0.6056 - accuracy: 0.5781\n",
      "Epoch 11/100\n",
      "6/6 [==============================] - 0s 4ms/step - loss: 0.5968 - accuracy: 0.5898\n",
      "Epoch 12/100\n",
      "6/6 [==============================] - 0s 4ms/step - loss: 0.5890 - accuracy: 0.6042\n",
      "Epoch 13/100\n",
      "6/6 [==============================] - 0s 3ms/step - loss: 0.5818 - accuracy: 0.6289\n",
      "Epoch 14/100\n",
      "6/6 [==============================] - 0s 3ms/step - loss: 0.5749 - accuracy: 0.6432\n",
      "Epoch 15/100\n",
      "6/6 [==============================] - 0s 4ms/step - loss: 0.5687 - accuracy: 0.6445\n",
      "Epoch 16/100\n",
      "6/6 [==============================] - 0s 4ms/step - loss: 0.5625 - accuracy: 0.6510\n",
      "Epoch 17/100\n",
      "6/6 [==============================] - 0s 3ms/step - loss: 0.5571 - accuracy: 0.6654\n",
      "Epoch 18/100\n",
      "6/6 [==============================] - 0s 4ms/step - loss: 0.5519 - accuracy: 0.6966\n",
      "Epoch 19/100\n",
      "6/6 [==============================] - 0s 4ms/step - loss: 0.5470 - accuracy: 0.7096\n",
      "Epoch 20/100\n",
      "6/6 [==============================] - 0s 3ms/step - loss: 0.5428 - accuracy: 0.7201\n",
      "Epoch 21/100\n",
      "6/6 [==============================] - 0s 4ms/step - loss: 0.5386 - accuracy: 0.7266\n",
      "Epoch 22/100\n",
      "6/6 [==============================] - 0s 4ms/step - loss: 0.5348 - accuracy: 0.7383\n",
      "Epoch 23/100\n",
      "6/6 [==============================] - 0s 4ms/step - loss: 0.5313 - accuracy: 0.7461\n",
      "Epoch 24/100\n",
      "6/6 [==============================] - 0s 3ms/step - loss: 0.5280 - accuracy: 0.7604\n",
      "Epoch 25/100\n",
      "6/6 [==============================] - 0s 3ms/step - loss: 0.5249 - accuracy: 0.7695\n",
      "Epoch 26/100\n",
      "6/6 [==============================] - 0s 3ms/step - loss: 0.5216 - accuracy: 0.7747\n",
      "Epoch 27/100\n",
      "6/6 [==============================] - 0s 3ms/step - loss: 0.5186 - accuracy: 0.7708\n",
      "Epoch 28/100\n",
      "6/6 [==============================] - 0s 3ms/step - loss: 0.5157 - accuracy: 0.7708\n",
      "Epoch 29/100\n",
      "6/6 [==============================] - 0s 3ms/step - loss: 0.5129 - accuracy: 0.7695\n",
      "Epoch 30/100\n",
      "6/6 [==============================] - 0s 4ms/step - loss: 0.5101 - accuracy: 0.7708\n",
      "Epoch 31/100\n",
      "6/6 [==============================] - 0s 4ms/step - loss: 0.5076 - accuracy: 0.7695\n",
      "Epoch 32/100\n",
      "6/6 [==============================] - 0s 4ms/step - loss: 0.5051 - accuracy: 0.7721\n",
      "Epoch 33/100\n",
      "6/6 [==============================] - 0s 4ms/step - loss: 0.5027 - accuracy: 0.7747\n",
      "Epoch 34/100\n",
      "6/6 [==============================] - 0s 3ms/step - loss: 0.5000 - accuracy: 0.7865\n",
      "Epoch 35/100\n",
      "6/6 [==============================] - 0s 3ms/step - loss: 0.4975 - accuracy: 0.7956\n",
      "Epoch 36/100\n",
      "6/6 [==============================] - 0s 4ms/step - loss: 0.4950 - accuracy: 0.8047\n",
      "Epoch 37/100\n",
      "6/6 [==============================] - 0s 4ms/step - loss: 0.4926 - accuracy: 0.8047\n",
      "Epoch 38/100\n",
      "6/6 [==============================] - 0s 4ms/step - loss: 0.4903 - accuracy: 0.8060\n",
      "Epoch 39/100\n",
      "6/6 [==============================] - 0s 4ms/step - loss: 0.4879 - accuracy: 0.8073\n",
      "Epoch 40/100\n",
      "6/6 [==============================] - 0s 4ms/step - loss: 0.4854 - accuracy: 0.8073\n",
      "Epoch 41/100\n",
      "6/6 [==============================] - 0s 4ms/step - loss: 0.4832 - accuracy: 0.8073\n",
      "Epoch 42/100\n",
      "6/6 [==============================] - 0s 4ms/step - loss: 0.4808 - accuracy: 0.8086\n",
      "Epoch 43/100\n",
      "6/6 [==============================] - 0s 4ms/step - loss: 0.4787 - accuracy: 0.8164\n",
      "Epoch 44/100\n",
      "6/6 [==============================] - 0s 4ms/step - loss: 0.4763 - accuracy: 0.8164\n",
      "Epoch 45/100\n",
      "6/6 [==============================] - 0s 4ms/step - loss: 0.4743 - accuracy: 0.8151\n",
      "Epoch 46/100\n",
      "6/6 [==============================] - 0s 4ms/step - loss: 0.4721 - accuracy: 0.8177\n",
      "Epoch 47/100\n",
      "6/6 [==============================] - 0s 3ms/step - loss: 0.4701 - accuracy: 0.8203\n",
      "Epoch 48/100\n",
      "6/6 [==============================] - 0s 3ms/step - loss: 0.4682 - accuracy: 0.8268\n",
      "Epoch 49/100\n",
      "6/6 [==============================] - 0s 3ms/step - loss: 0.4662 - accuracy: 0.8320\n",
      "Epoch 50/100\n",
      "6/6 [==============================] - 0s 4ms/step - loss: 0.4643 - accuracy: 0.8320\n",
      "Epoch 51/100\n",
      "6/6 [==============================] - 0s 3ms/step - loss: 0.4625 - accuracy: 0.8320\n",
      "Epoch 52/100\n",
      "6/6 [==============================] - 0s 4ms/step - loss: 0.4605 - accuracy: 0.8320\n",
      "Epoch 53/100\n",
      "6/6 [==============================] - 0s 3ms/step - loss: 0.4587 - accuracy: 0.8359\n",
      "Epoch 54/100\n",
      "6/6 [==============================] - 0s 4ms/step - loss: 0.4569 - accuracy: 0.8424\n",
      "Epoch 55/100\n",
      "6/6 [==============================] - 0s 4ms/step - loss: 0.4551 - accuracy: 0.8516\n",
      "Epoch 56/100\n",
      "6/6 [==============================] - 0s 4ms/step - loss: 0.4534 - accuracy: 0.8633\n",
      "Epoch 57/100\n",
      "6/6 [==============================] - 0s 4ms/step - loss: 0.4514 - accuracy: 0.8633\n",
      "Epoch 58/100\n",
      "6/6 [==============================] - 0s 4ms/step - loss: 0.4496 - accuracy: 0.8633\n",
      "Epoch 59/100\n",
      "6/6 [==============================] - 0s 4ms/step - loss: 0.4479 - accuracy: 0.8633\n",
      "Epoch 60/100\n",
      "6/6 [==============================] - 0s 4ms/step - loss: 0.4463 - accuracy: 0.8633\n",
      "Epoch 61/100\n",
      "6/6 [==============================] - 0s 4ms/step - loss: 0.4446 - accuracy: 0.8633\n",
      "Epoch 62/100\n",
      "6/6 [==============================] - 0s 3ms/step - loss: 0.4429 - accuracy: 0.8659\n",
      "Epoch 63/100\n",
      "6/6 [==============================] - 0s 4ms/step - loss: 0.4412 - accuracy: 0.8685\n",
      "Epoch 64/100\n",
      "6/6 [==============================] - 0s 4ms/step - loss: 0.4396 - accuracy: 0.8685\n",
      "Epoch 65/100\n",
      "6/6 [==============================] - 0s 4ms/step - loss: 0.4379 - accuracy: 0.8685\n",
      "Epoch 66/100\n",
      "6/6 [==============================] - 0s 3ms/step - loss: 0.4363 - accuracy: 0.8711\n",
      "Epoch 67/100\n",
      "6/6 [==============================] - 0s 4ms/step - loss: 0.4346 - accuracy: 0.8711\n",
      "Epoch 68/100\n",
      "6/6 [==============================] - 0s 4ms/step - loss: 0.4330 - accuracy: 0.8737\n",
      "Epoch 69/100\n",
      "6/6 [==============================] - 0s 5ms/step - loss: 0.4314 - accuracy: 0.8724\n",
      "Epoch 70/100\n",
      "6/6 [==============================] - 0s 7ms/step - loss: 0.4298 - accuracy: 0.8711\n",
      "Epoch 71/100\n",
      "6/6 [==============================] - 0s 3ms/step - loss: 0.4283 - accuracy: 0.8711\n",
      "Epoch 72/100\n",
      "6/6 [==============================] - 0s 3ms/step - loss: 0.4269 - accuracy: 0.8711\n",
      "Epoch 73/100\n",
      "6/6 [==============================] - 0s 3ms/step - loss: 0.4254 - accuracy: 0.8711\n",
      "Epoch 74/100\n",
      "6/6 [==============================] - 0s 3ms/step - loss: 0.4241 - accuracy: 0.8737\n",
      "Epoch 75/100\n",
      "6/6 [==============================] - 0s 3ms/step - loss: 0.4226 - accuracy: 0.8776\n",
      "Epoch 76/100\n",
      "6/6 [==============================] - 0s 4ms/step - loss: 0.4213 - accuracy: 0.8776\n",
      "Epoch 77/100\n",
      "6/6 [==============================] - 0s 3ms/step - loss: 0.4199 - accuracy: 0.8776\n",
      "Epoch 78/100\n",
      "6/6 [==============================] - 0s 2ms/step - loss: 0.4186 - accuracy: 0.8711\n",
      "Epoch 79/100\n",
      "6/6 [==============================] - 0s 4ms/step - loss: 0.4173 - accuracy: 0.8711\n",
      "Epoch 80/100\n",
      "6/6 [==============================] - 0s 3ms/step - loss: 0.4159 - accuracy: 0.8711\n",
      "Epoch 81/100\n",
      "6/6 [==============================] - 0s 4ms/step - loss: 0.4147 - accuracy: 0.8711\n",
      "Epoch 82/100\n",
      "6/6 [==============================] - 0s 3ms/step - loss: 0.4135 - accuracy: 0.8711\n",
      "Epoch 83/100\n",
      "6/6 [==============================] - 0s 3ms/step - loss: 0.4123 - accuracy: 0.8711\n",
      "Epoch 84/100\n",
      "6/6 [==============================] - 0s 3ms/step - loss: 0.4110 - accuracy: 0.8724\n",
      "Epoch 85/100\n",
      "6/6 [==============================] - 0s 3ms/step - loss: 0.4098 - accuracy: 0.8737\n",
      "Epoch 86/100\n",
      "6/6 [==============================] - 0s 4ms/step - loss: 0.4087 - accuracy: 0.8737\n",
      "Epoch 87/100\n",
      "6/6 [==============================] - 0s 4ms/step - loss: 0.4075 - accuracy: 0.8737\n",
      "Epoch 88/100\n",
      "6/6 [==============================] - 0s 4ms/step - loss: 0.4063 - accuracy: 0.8776\n",
      "Epoch 89/100\n",
      "6/6 [==============================] - 0s 4ms/step - loss: 0.4052 - accuracy: 0.8776\n",
      "Epoch 90/100\n",
      "6/6 [==============================] - 0s 4ms/step - loss: 0.4040 - accuracy: 0.8776\n",
      "Epoch 91/100\n",
      "6/6 [==============================] - 0s 3ms/step - loss: 0.4030 - accuracy: 0.8776\n",
      "Epoch 92/100\n",
      "6/6 [==============================] - 0s 3ms/step - loss: 0.4020 - accuracy: 0.8776\n",
      "Epoch 93/100\n",
      "6/6 [==============================] - 0s 3ms/step - loss: 0.4009 - accuracy: 0.8776\n",
      "Epoch 94/100\n",
      "6/6 [==============================] - 0s 4ms/step - loss: 0.3996 - accuracy: 0.8776\n",
      "Epoch 95/100\n",
      "6/6 [==============================] - 0s 4ms/step - loss: 0.3986 - accuracy: 0.8776\n",
      "Epoch 96/100\n",
      "6/6 [==============================] - 0s 4ms/step - loss: 0.3976 - accuracy: 0.8776\n",
      "Epoch 97/100\n",
      "6/6 [==============================] - 0s 4ms/step - loss: 0.3966 - accuracy: 0.8776\n",
      "Epoch 98/100\n",
      "6/6 [==============================] - 0s 4ms/step - loss: 0.3955 - accuracy: 0.8776\n",
      "Epoch 99/100\n",
      "6/6 [==============================] - 0s 4ms/step - loss: 0.3945 - accuracy: 0.8776\n",
      "Epoch 100/100\n",
      "6/6 [==============================] - 0s 4ms/step - loss: 0.3934 - accuracy: 0.8776\n"
     ]
    }
   ],
   "source": [
    "history_128 = ann2.fit(x_train, y_train, epochs=100, batch_size=128)"
   ]
  },
  {
   "cell_type": "code",
   "execution_count": 38,
   "metadata": {},
   "outputs": [
    {
     "name": "stdout",
     "output_type": "stream",
     "text": [
      "dict_keys(['loss', 'accuracy'])\n"
     ]
    }
   ],
   "source": [
    "print(history_16.history.keys())"
   ]
  },
  {
   "cell_type": "markdown",
   "metadata": {},
   "source": [
    "We can plot the 2 ann models through their accuracy history, to compare the learning curve."
   ]
  },
  {
   "cell_type": "code",
   "execution_count": 52,
   "metadata": {},
   "outputs": [
    {
     "data": {
      "image/png": "[encoded data removed]",
      "text/plain": [
       "<Figure size 1080x360 with 2 Axes>"
      ]
     },
     "metadata": {},
     "output_type": "display_data"
    }
   ],
   "source": [
    "plt.figure(figsize=(15,5))\n",
    "\n",
    "plt.subplot(1,2,1)\n",
    "plt.plot(history_16.history['accuracy'])\n",
    "plt.title(\"History of Batch Size 16\")\n",
    "plt.ylabel(\"Accuracy\")\n",
    "plt.xlabel(\"Epochs\")\n",
    "plt.tight_layout()\n",
    "\n",
    "plt.subplot(1,2,2)\n",
    "plt.plot(history_128.history['accuracy'])\n",
    "plt.title(\"History of Batch Size 128\")\n",
    "plt.ylabel(\"Accuracy\")\n",
    "plt.xlabel(\"Epochs\")\n",
    "plt.tight_layout()\n",
    "\n",
    "plt.show()"
   ]
  },
  {
   "cell_type": "markdown",
   "metadata": {},
   "source": [
    "We can see that the ann model with batch size 16 has a faster learning rate, it has reached 0.8 accuracy below epoch 10, whereas the ann model with batch size 128 needs around 35 epochs to reach 0.8 accuracy. Moreover, the peak accuracy of the batch size 16 ann model is high, can reach 95 %, the ann model with batch size 128 can only reach 88 % of accuracy. \n",
    "\n",
    "This is due to our dataset being very balanced, so it's better to have lower batch size. On the other hand, For unbalanced datasets have larger value like 128."
   ]
  },
  {
   "cell_type": "markdown",
   "metadata": {},
   "source": [
    "Regarding the epoch analysis, we can conclude that as the number of epochs increase, the accuracy of our model also increases, this is because our model learns and evaluates more when there are more epochs."
   ]
  },
  {
   "cell_type": "markdown",
   "metadata": {},
   "source": [
    "We will use Batch size 16 then for data evaluation."
   ]
  },
  {
   "cell_type": "markdown",
   "metadata": {},
   "source": [
    "## Data Evaluation"
   ]
  },
  {
   "cell_type": "markdown",
   "metadata": {},
   "source": [
    "Import numpy for some calculations."
   ]
  },
  {
   "cell_type": "code",
   "execution_count": 40,
   "metadata": {},
   "outputs": [],
   "source": [
    "import numpy as np"
   ]
  },
  {
   "cell_type": "markdown",
   "metadata": {},
   "source": [
    "We can use the EVALUATE method, to get the accuracy of our ann model prediction for test data."
   ]
  },
  {
   "cell_type": "code",
   "execution_count": 41,
   "metadata": {},
   "outputs": [
    {
     "name": "stdout",
     "output_type": "stream",
     "text": [
      "9/9 [==============================] - 1s 6ms/step - loss: 0.2092 - accuracy: 0.9183\n"
     ]
    }
   ],
   "source": [
    "loss, acc = ann.evaluate(x_test, y_test)"
   ]
  },
  {
   "cell_type": "code",
   "execution_count": 42,
   "metadata": {},
   "outputs": [
    {
     "name": "stdout",
     "output_type": "stream",
     "text": [
      "91.83 %\n"
     ]
    }
   ],
   "source": [
    "print(np.round(acc*100, 2), \"%\")"
   ]
  },
  {
   "cell_type": "markdown",
   "metadata": {},
   "source": [
    "We can also create a confusion matrix so we can analyze further the errors of our model."
   ]
  },
  {
   "cell_type": "code",
   "execution_count": 43,
   "metadata": {},
   "outputs": [],
   "source": [
    "from sklearn.metrics import confusion_matrix"
   ]
  },
  {
   "cell_type": "markdown",
   "metadata": {},
   "source": [
    "To compare y_pred with y_true/y_test, we need to map the values of y_pred, which are originally values from the sigmoid function. We can filter sigmoid values greater or equal to 0.5 as being True or 1, and the others as False or 0."
   ]
  },
  {
   "cell_type": "code",
   "execution_count": 44,
   "metadata": {},
   "outputs": [
    {
     "name": "stdout",
     "output_type": "stream",
     "text": [
      "9/9 [==============================] - 0s 3ms/step\n"
     ]
    }
   ],
   "source": [
    "y_pred = ann.predict(x_test)\n",
    "y_pred = y_pred >= 0.5"
   ]
  },
  {
   "cell_type": "code",
   "execution_count": 45,
   "metadata": {},
   "outputs": [
    {
     "data": {
      "text/plain": [
       "array([[ True],\n",
       "       [ True],\n",
       "       [ True],\n",
       "       [ True],\n",
       "       [False],\n",
       "       [False],\n",
       "       [ True],\n",
       "       [ True],\n",
       "       [ True],\n",
       "       [ True],\n",
       "       [ True],\n",
       "       [False],\n",
       "       [False],\n",
       "       [False],\n",
       "       [ True],\n",
       "       [ True],\n",
       "       [False],\n",
       "       [ True],\n",
       "       [False],\n",
       "       [ True],\n",
       "       [ True],\n",
       "       [False],\n",
       "       [False],\n",
       "       [False],\n",
       "       [False],\n",
       "       [False],\n",
       "       [False],\n",
       "       [ True],\n",
       "       [ True],\n",
       "       [False],\n",
       "       [False],\n",
       "       [False],\n",
       "       [ True],\n",
       "       [ True],\n",
       "       [ True],\n",
       "       [ True],\n",
       "       [ True],\n",
       "       [False],\n",
       "       [ True],\n",
       "       [ True],\n",
       "       [False],\n",
       "       [ True],\n",
       "       [ True],\n",
       "       [False],\n",
       "       [ True],\n",
       "       [False],\n",
       "       [False],\n",
       "       [ True],\n",
       "       [ True],\n",
       "       [False],\n",
       "       [ True],\n",
       "       [False],\n",
       "       [ True],\n",
       "       [ True],\n",
       "       [ True],\n",
       "       [ True],\n",
       "       [False],\n",
       "       [False],\n",
       "       [False],\n",
       "       [ True],\n",
       "       [ True],\n",
       "       [False],\n",
       "       [ True],\n",
       "       [ True],\n",
       "       [ True],\n",
       "       [ True],\n",
       "       [ True],\n",
       "       [ True],\n",
       "       [ True],\n",
       "       [ True],\n",
       "       [False],\n",
       "       [ True],\n",
       "       [ True],\n",
       "       [False],\n",
       "       [False],\n",
       "       [ True],\n",
       "       [ True],\n",
       "       [False],\n",
       "       [False],\n",
       "       [ True],\n",
       "       [ True],\n",
       "       [ True],\n",
       "       [False],\n",
       "       [False],\n",
       "       [False],\n",
       "       [ True],\n",
       "       [ True],\n",
       "       [ True],\n",
       "       [False],\n",
       "       [False],\n",
       "       [False],\n",
       "       [ True],\n",
       "       [ True],\n",
       "       [False],\n",
       "       [ True],\n",
       "       [ True],\n",
       "       [ True],\n",
       "       [ True],\n",
       "       [False],\n",
       "       [False],\n",
       "       [ True],\n",
       "       [ True],\n",
       "       [False],\n",
       "       [False],\n",
       "       [False],\n",
       "       [ True],\n",
       "       [False],\n",
       "       [ True],\n",
       "       [False],\n",
       "       [False],\n",
       "       [False],\n",
       "       [False],\n",
       "       [False],\n",
       "       [ True],\n",
       "       [False],\n",
       "       [ True],\n",
       "       [ True],\n",
       "       [ True],\n",
       "       [ True],\n",
       "       [ True],\n",
       "       [False],\n",
       "       [ True],\n",
       "       [ True],\n",
       "       [ True],\n",
       "       [ True],\n",
       "       [False],\n",
       "       [False],\n",
       "       [False],\n",
       "       [False],\n",
       "       [ True],\n",
       "       [False],\n",
       "       [ True],\n",
       "       [ True],\n",
       "       [ True],\n",
       "       [False],\n",
       "       [False],\n",
       "       [ True],\n",
       "       [False],\n",
       "       [ True],\n",
       "       [ True],\n",
       "       [False],\n",
       "       [False],\n",
       "       [ True],\n",
       "       [False],\n",
       "       [False],\n",
       "       [ True],\n",
       "       [False],\n",
       "       [ True],\n",
       "       [ True],\n",
       "       [ True],\n",
       "       [False],\n",
       "       [False],\n",
       "       [ True],\n",
       "       [ True],\n",
       "       [False],\n",
       "       [ True],\n",
       "       [ True],\n",
       "       [False],\n",
       "       [ True],\n",
       "       [ True],\n",
       "       [ True],\n",
       "       [ True],\n",
       "       [False],\n",
       "       [ True],\n",
       "       [ True],\n",
       "       [False],\n",
       "       [ True],\n",
       "       [ True],\n",
       "       [False],\n",
       "       [False],\n",
       "       [False],\n",
       "       [ True],\n",
       "       [ True],\n",
       "       [ True],\n",
       "       [False],\n",
       "       [ True],\n",
       "       [False],\n",
       "       [ True],\n",
       "       [False],\n",
       "       [False],\n",
       "       [False],\n",
       "       [False],\n",
       "       [False],\n",
       "       [ True],\n",
       "       [False],\n",
       "       [False],\n",
       "       [ True],\n",
       "       [False],\n",
       "       [False],\n",
       "       [False],\n",
       "       [ True],\n",
       "       [False],\n",
       "       [ True],\n",
       "       [False],\n",
       "       [False],\n",
       "       [False],\n",
       "       [ True],\n",
       "       [ True],\n",
       "       [ True],\n",
       "       [ True],\n",
       "       [False],\n",
       "       [False],\n",
       "       [ True],\n",
       "       [False],\n",
       "       [ True],\n",
       "       [ True],\n",
       "       [False],\n",
       "       [False],\n",
       "       [ True],\n",
       "       [False],\n",
       "       [False],\n",
       "       [ True],\n",
       "       [False],\n",
       "       [ True],\n",
       "       [ True],\n",
       "       [False],\n",
       "       [False],\n",
       "       [ True],\n",
       "       [ True],\n",
       "       [ True],\n",
       "       [ True],\n",
       "       [False],\n",
       "       [ True],\n",
       "       [ True],\n",
       "       [False],\n",
       "       [ True],\n",
       "       [ True],\n",
       "       [ True],\n",
       "       [ True],\n",
       "       [ True],\n",
       "       [ True],\n",
       "       [False],\n",
       "       [False],\n",
       "       [False],\n",
       "       [False],\n",
       "       [False],\n",
       "       [ True],\n",
       "       [False],\n",
       "       [ True],\n",
       "       [False],\n",
       "       [ True],\n",
       "       [ True],\n",
       "       [False],\n",
       "       [ True],\n",
       "       [ True],\n",
       "       [False],\n",
       "       [ True],\n",
       "       [False],\n",
       "       [ True],\n",
       "       [ True],\n",
       "       [False],\n",
       "       [False],\n",
       "       [False],\n",
       "       [ True],\n",
       "       [False],\n",
       "       [False],\n",
       "       [ True]])"
      ]
     },
     "execution_count": 45,
     "metadata": {},
     "output_type": "execute_result"
    }
   ],
   "source": [
    "y_pred"
   ]
  },
  {
   "cell_type": "markdown",
   "metadata": {},
   "source": [
    "__Creating Confusion Matrix__"
   ]
  },
  {
   "cell_type": "code",
   "execution_count": 46,
   "metadata": {},
   "outputs": [
    {
     "data": {
      "text/plain": [
       "array([[110,  14],\n",
       "       [  7, 126]], dtype=int64)"
      ]
     },
     "execution_count": 46,
     "metadata": {},
     "output_type": "execute_result"
    }
   ],
   "source": [
    "cm = confusion_matrix(y_test, y_pred)\n",
    "cm"
   ]
  },
  {
   "cell_type": "markdown",
   "metadata": {},
   "source": [
    "Code for checking whether our confusion matrix is correct or not.\n",
    "\n",
    "If accuracy is the same as above, it means that the confusion matrix is correct."
   ]
  },
  {
   "cell_type": "code",
   "execution_count": 47,
   "metadata": {},
   "outputs": [
    {
     "name": "stdout",
     "output_type": "stream",
     "text": [
      "91.83 %\n"
     ]
    }
   ],
   "source": [
    "accuracy = (cm[0][0]+cm[1][1])/(cm[0][1] + cm[1][0] +cm[0][0] +cm[1][1])\n",
    "print(np.round(accuracy*100, 2), \"%\")"
   ]
  },
  {
   "cell_type": "markdown",
   "metadata": {},
   "source": [
    "To present this confusion matrix in a heatmap, we can use the following code:"
   ]
  },
  {
   "cell_type": "code",
   "execution_count": 48,
   "metadata": {},
   "outputs": [],
   "source": [
    "group_names = [\"True Negative\", \"False Positive\", \"False Negative\", \"True Positive\"]\n",
    "group_counts = [\"{0:0.0f}\".format(value) for value in cm.flatten()]\n",
    "group_percentages = [\"{0:.2%}\".format(value) for value in cm.flatten()/np.sum(cm)]\n",
    "\n",
    "labels = [f\"{v1}\\n{v2}\\n{v3}\" for v1, v2, v3 in zip(group_names,group_counts,group_percentages)]\n",
    "labels = np.asarray(labels).reshape(2,2)"
   ]
  },
  {
   "cell_type": "code",
   "execution_count": 49,
   "metadata": {},
   "outputs": [
    {
     "data": {
      "image/png": "[encoded data removed]",
      "text/plain": [
       "<Figure size 720x576 with 2 Axes>"
      ]
     },
     "metadata": {
      "needs_background": "light"
     },
     "output_type": "display_data"
    }
   ],
   "source": [
    "plt.figure(figsize=(10, 8))\n",
    "sns.heatmap(cm, annot=labels, fmt='', cmap='Blues')\n",
    "plt.show()"
   ]
  }
 ],
 "metadata": {
  "kernelspec": {
   "display_name": "Python 3",
   "language": "python",
   "name": "python3"
  },
  "language_info": {
   "codemirror_mode": {
    "name": "ipython",
    "version": 3
   },
   "file_extension": ".py",
   "mimetype": "text/x-python",
   "name": "python",
   "nbconvert_exporter": "python",
   "pygments_lexer": "ipython3",
   "version": "3.11.0"
  },
  "orig_nbformat": 4,
  "vscode": {
   "interpreter": {
    "hash": "aa87ed25ce6ee8d1d803b1dff6e0813bead6bb663fd700c98d4a0f1c53df08b8"
   }
  }
 },
 "nbformat": 4,
 "nbformat_minor": 2
}
