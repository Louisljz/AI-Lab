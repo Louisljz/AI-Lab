{
 "cells": [
  {
   "attachments": {},
   "cell_type": "markdown",
   "metadata": {},
   "source": [
    "# Lunar Lander Deep Q Network Implementation"
   ]
  },
  {
   "attachments": {},
   "cell_type": "markdown",
   "metadata": {},
   "source": [
    "Lunar Lander Gym Documentation:\n",
    "https://www.gymlibrary.dev/environments/box2d/lunar_lander/\n",
    "<br>\n",
    "\n",
    "**Action Space** <br>\n",
    "There are four discrete actions available: do nothing, fire left orientation engine, fire main engine, fire right orientation engine.\n",
    "\n",
    "**Observation Space** <br>\n",
    "The state is an 8-dimensional vector: the coordinates of the lander in x & y, its linear velocities in x & y, its angle, its angular velocity, and two booleans that represent whether each leg is in contact with the ground or not."
   ]
  },
  {
   "attachments": {},
   "cell_type": "markdown",
   "metadata": {},
   "source": [
    "## Test Environment"
   ]
  },
  {
   "cell_type": "code",
   "execution_count": 1,
   "metadata": {},
   "outputs": [],
   "source": [
    "import warnings\n",
    "\n",
    "warnings.filterwarnings(action='ignore')"
   ]
  },
  {
   "attachments": {},
   "cell_type": "markdown",
   "metadata": {},
   "source": [
    "**Produce Reproducible Results**"
   ]
  },
  {
   "cell_type": "code",
   "execution_count": 2,
   "metadata": {},
   "outputs": [],
   "source": [
    "seed_value = 0\n",
    "\n",
    "# 1. Set `PYTHONHASHSEED` environment variable at a fixed value\n",
    "import os\n",
    "os.environ['PYTHONHASHSEED']=str(seed_value)\n",
    "\n",
    "# 2. Set `python` built-in pseudo-random generator at a fixed value\n",
    "import random\n",
    "random.seed(seed_value)\n",
    "\n",
    "# 3. Set `numpy` pseudo-random generator at a fixed value\n",
    "import numpy as np\n",
    "np.random.seed(seed_value)\n",
    "\n",
    "# 4. Set Gym Environment pseudo-random generator at a fixed value\n",
    "import gym\n",
    "env = gym.make(\"LunarLander-v2\")\n",
    "env.seed(seed_value)\n",
    "\n",
    "# 5. Set the `tensorflow` pseudo-random generator at a fixed value\n",
    "import tensorflow as tf\n",
    "tf.random.set_seed(seed_value)\n",
    "\n",
    "# 6. Configure a new global `tensorflow` session\n",
    "from keras import backend as K\n",
    "session_conf = tf.compat.v1.ConfigProto(intra_op_parallelism_threads=1, inter_op_parallelism_threads=1)\n",
    "sess = tf.compat.v1.Session(graph=tf.compat.v1.get_default_graph(), config=session_conf)\n",
    "K.set_session(sess)"
   ]
  },
  {
   "cell_type": "code",
   "execution_count": 3,
   "metadata": {},
   "outputs": [],
   "source": [
    "states = env.observation_space.shape[0]\n",
    "actions = env.action_space.n"
   ]
  },
  {
   "cell_type": "code",
   "execution_count": 4,
   "metadata": {},
   "outputs": [
    {
     "name": "stdout",
     "output_type": "stream",
     "text": [
      "States:  8\n",
      "Actions:  4\n"
     ]
    }
   ],
   "source": [
    "print('States: ', states)\n",
    "print('Actions: ', actions)"
   ]
  },
  {
   "cell_type": "code",
   "execution_count": 5,
   "metadata": {},
   "outputs": [
    {
     "name": "stdout",
     "output_type": "stream",
     "text": [
      "Episode: 1, Score: -87.16814999350032\n",
      "Episode: 2, Score: -378.8567352935014\n",
      "Episode: 3, Score: -419.2673519364487\n",
      "Episode: 4, Score: -347.6871207195777\n",
      "Episode: 5, Score: -338.6859157133318\n"
     ]
    }
   ],
   "source": [
    "episodes = 5\n",
    "for episode in range(1, episodes+1):\n",
    "    state = env.reset()\n",
    "    done = False\n",
    "    score = 0\n",
    "\n",
    "    while not done:\n",
    "        env.render()\n",
    "        action = env.action_space.sample()\n",
    "        state, reward, done, info = env.step(action)\n",
    "        score += reward\n",
    "\n",
    "        if done:\n",
    "            break\n",
    "    \n",
    "    print(f'Episode: {episode}, Score: {score}')\n",
    "\n",
    "env.close()"
   ]
  },
  {
   "attachments": {},
   "cell_type": "markdown",
   "metadata": {},
   "source": [
    "## Create Deep Learning Model"
   ]
  },
  {
   "cell_type": "code",
   "execution_count": 6,
   "metadata": {},
   "outputs": [],
   "source": [
    "from keras.models import Sequential\n",
    "from keras.layers import Flatten, Dense\n",
    "from keras.optimizers import Adam"
   ]
  },
  {
   "cell_type": "code",
   "execution_count": 13,
   "metadata": {},
   "outputs": [],
   "source": [
    "def build_dl(states, actions):\n",
    "    model = Sequential()\n",
    "    model.add(Flatten(input_shape = (1, states)))\n",
    "    model.add(Dense(64, activation='relu'))\n",
    "    model.add(Dense(64, activation='relu'))\n",
    "    model.add(Dense(actions, activation='linear'))\n",
    "    return model"
   ]
  },
  {
   "cell_type": "code",
   "execution_count": 14,
   "metadata": {},
   "outputs": [],
   "source": [
    "model = build_dl(states, actions)"
   ]
  },
  {
   "cell_type": "code",
   "execution_count": 15,
   "metadata": {},
   "outputs": [
    {
     "name": "stdout",
     "output_type": "stream",
     "text": [
      "Model: \"sequential_1\"\n",
      "_________________________________________________________________\n",
      " Layer (type)                Output Shape              Param #   \n",
      "=================================================================\n",
      " flatten_1 (Flatten)         (None, 8)                 0         \n",
      "                                                                 \n",
      " dense_3 (Dense)             (None, 64)                576       \n",
      "                                                                 \n",
      " dense_4 (Dense)             (None, 64)                4160      \n",
      "                                                                 \n",
      " dense_5 (Dense)             (None, 4)                 260       \n",
      "                                                                 \n",
      "=================================================================\n",
      "Total params: 4,996\n",
      "Trainable params: 4,996\n",
      "Non-trainable params: 0\n",
      "_________________________________________________________________\n"
     ]
    }
   ],
   "source": [
    "model.summary()"
   ]
  },
  {
   "attachments": {},
   "cell_type": "markdown",
   "metadata": {},
   "source": [
    "## Build Agent Using Keras-RL"
   ]
  },
  {
   "cell_type": "code",
   "execution_count": 16,
   "metadata": {},
   "outputs": [],
   "source": [
    "from rl.agents import DQNAgent\n",
    "from rl.policy import BoltzmannQPolicy\n",
    "from rl.memory import SequentialMemory"
   ]
  },
  {
   "cell_type": "code",
   "execution_count": 17,
   "metadata": {},
   "outputs": [],
   "source": [
    "def build_agent(model, actions):\n",
    "    policy = BoltzmannQPolicy()\n",
    "    buffer = SequentialMemory(limit=250000, window_length=1)\n",
    "    dqn = DQNAgent(model=model, memory=buffer, policy=policy, \n",
    "                    nb_actions=actions, nb_steps_warmup=10, target_model_update=1e-2)\n",
    "    return dqn"
   ]
  },
  {
   "cell_type": "code",
   "execution_count": 18,
   "metadata": {},
   "outputs": [
    {
     "name": "stdout",
     "output_type": "stream",
     "text": [
      "WARNING:tensorflow:From c:\\Users\\louis\\anaconda3\\envs\\RL\\lib\\site-packages\\tensorflow\\python\\autograph\\pyct\\static_analysis\\liveness.py:83: Analyzer.lamba_check (from tensorflow.python.autograph.pyct.static_analysis.liveness) is deprecated and will be removed after 2023-09-23.\n",
      "Instructions for updating:\n",
      "Lambda fuctions will be no more assumed to be used in the statement where they are used, or at least in the same block. https://github.com/tensorflow/tensorflow/issues/56089\n"
     ]
    }
   ],
   "source": [
    "dqn = build_agent(model, actions)\n",
    "dqn.compile(optimizer=Adam(), metrics=['mae'])"
   ]
  },
  {
   "attachments": {},
   "cell_type": "markdown",
   "metadata": {},
   "source": [
    "## Train RL Model"
   ]
  },
  {
   "cell_type": "code",
   "execution_count": 19,
   "metadata": {},
   "outputs": [],
   "source": [
    "env = gym.make(\"LunarLander-v2\")"
   ]
  },
  {
   "cell_type": "code",
   "execution_count": 20,
   "metadata": {},
   "outputs": [
    {
     "name": "stdout",
     "output_type": "stream",
     "text": [
      "Training for 500000 steps ...\n",
      "Interval 1 (0 steps performed)\n",
      "10000/10000 [==============================] - 43s 4ms/step - reward: -0.2815\n",
      "40 episodes - episode_reward: -73.660 [-307.995, 107.083] - loss: 10.118 - mae: 18.027 - mean_q: 7.834\n",
      "\n",
      "Interval 2 (10000 steps performed)\n",
      "10000/10000 [==============================] - 44s 4ms/step - reward: 0.0602\n",
      "12 episodes - episode_reward: 48.925 [-226.535, 213.480] - loss: 7.031 - mae: 24.112 - mean_q: 29.211\n",
      "\n",
      "Interval 3 (20000 steps performed)\n",
      "10000/10000 [==============================] - 45s 4ms/step - reward: 0.1007\n",
      "12 episodes - episode_reward: 88.402 [-126.621, 189.947] - loss: 6.250 - mae: 33.414 - mean_q: 44.271\n",
      "\n",
      "Interval 4 (30000 steps performed)\n",
      "10000/10000 [==============================] - 45s 5ms/step - reward: 0.0920\n",
      "11 episodes - episode_reward: 78.154 [-32.389, 126.036] - loss: 5.763 - mae: 36.650 - mean_q: 49.139\n",
      "\n",
      "Interval 5 (40000 steps performed)\n",
      "10000/10000 [==============================] - 47s 5ms/step - reward: 0.1059\n",
      "11 episodes - episode_reward: 98.637 [17.076, 208.590] - loss: 5.222 - mae: 37.021 - mean_q: 49.719\n",
      "\n",
      "Interval 6 (50000 steps performed)\n",
      "10000/10000 [==============================] - 50s 5ms/step - reward: 0.1362\n",
      "11 episodes - episode_reward: 122.262 [81.487, 204.199] - loss: 4.685 - mae: 35.913 - mean_q: 48.098\n",
      "\n",
      "Interval 7 (60000 steps performed)\n",
      "10000/10000 [==============================] - 56s 6ms/step - reward: 0.1077\n",
      "16 episodes - episode_reward: 67.216 [-112.014, 197.769] - loss: 4.898 - mae: 34.761 - mean_q: 46.679\n",
      "\n",
      "Interval 8 (70000 steps performed)\n",
      "10000/10000 [==============================] - 52s 5ms/step - reward: 0.1252\n",
      "13 episodes - episode_reward: 96.680 [-91.323, 155.590] - loss: 3.908 - mae: 33.918 - mean_q: 45.445\n",
      "\n",
      "Interval 9 (80000 steps performed)\n",
      "10000/10000 [==============================] - 50s 5ms/step - reward: 0.1126\n",
      "11 episodes - episode_reward: 116.207 [4.978, 150.394] - loss: 3.475 - mae: 33.628 - mean_q: 45.017\n",
      "\n",
      "Interval 10 (90000 steps performed)\n",
      "10000/10000 [==============================] - 50s 5ms/step - reward: 0.1232\n",
      "10 episodes - episode_reward: 121.417 [91.493, 149.920] - loss: 3.861 - mae: 33.178 - mean_q: 44.282\n",
      "\n",
      "Interval 11 (100000 steps performed)\n",
      "10000/10000 [==============================] - 49s 5ms/step - reward: 0.1189\n",
      "13 episodes - episode_reward: 80.151 [-26.312, 173.437] - loss: 3.061 - mae: 32.755 - mean_q: 43.944\n",
      "\n",
      "Interval 12 (110000 steps performed)\n",
      "10000/10000 [==============================] - 51s 5ms/step - reward: 0.1100\n",
      "12 episodes - episode_reward: 92.072 [3.006, 167.134] - loss: 3.316 - mae: 31.776 - mean_q: 42.790\n",
      "\n",
      "Interval 13 (120000 steps performed)\n",
      "10000/10000 [==============================] - 51s 5ms/step - reward: 0.1185\n",
      "10 episodes - episode_reward: 124.196 [98.868, 176.917] - loss: 3.002 - mae: 31.071 - mean_q: 41.772\n",
      "\n",
      "Interval 14 (130000 steps performed)\n",
      "10000/10000 [==============================] - 54s 5ms/step - reward: 0.1219\n",
      "10 episodes - episode_reward: 117.422 [-4.828, 163.660] - loss: 2.936 - mae: 30.991 - mean_q: 41.788\n",
      "\n",
      "Interval 15 (140000 steps performed)\n",
      "10000/10000 [==============================] - 59s 6ms/step - reward: 0.1374\n",
      "11 episodes - episode_reward: 125.836 [-13.031, 195.325] - loss: 2.666 - mae: 30.438 - mean_q: 41.111\n",
      "\n",
      "Interval 16 (150000 steps performed)\n",
      "10000/10000 [==============================] - 58s 6ms/step - reward: 0.0982\n",
      "10 episodes - episode_reward: 97.863 [-59.140, 151.543] - loss: 2.571 - mae: 30.270 - mean_q: 40.823\n",
      "\n",
      "Interval 17 (160000 steps performed)\n",
      "10000/10000 [==============================] - 58s 6ms/step - reward: 0.0801\n",
      "13 episodes - episode_reward: 59.498 [-235.618, 144.811] - loss: 2.945 - mae: 29.982 - mean_q: 40.517\n",
      "\n",
      "Interval 18 (170000 steps performed)\n",
      "10000/10000 [==============================] - 58s 6ms/step - reward: 0.1131\n",
      "11 episodes - episode_reward: 100.560 [28.533, 158.837] - loss: 2.647 - mae: 29.867 - mean_q: 40.265\n",
      "\n",
      "Interval 19 (180000 steps performed)\n",
      "10000/10000 [==============================] - 59s 6ms/step - reward: 0.0934\n",
      "10 episodes - episode_reward: 106.302 [-172.885, 221.415] - loss: 2.567 - mae: 30.189 - mean_q: 40.677\n",
      "\n",
      "Interval 20 (190000 steps performed)\n",
      "10000/10000 [==============================] - 62s 6ms/step - reward: 0.1032\n",
      "11 episodes - episode_reward: 86.139 [-205.233, 186.048] - loss: 2.394 - mae: 29.963 - mean_q: 40.356\n",
      "\n",
      "Interval 21 (200000 steps performed)\n",
      "10000/10000 [==============================] - 63s 6ms/step - reward: 0.1274\n",
      "11 episodes - episode_reward: 116.606 [24.221, 147.544] - loss: 2.498 - mae: 29.334 - mean_q: 39.571\n",
      "\n",
      "Interval 22 (210000 steps performed)\n",
      "10000/10000 [==============================] - 64s 6ms/step - reward: 0.1383\n",
      "11 episodes - episode_reward: 122.088 [-28.722, 189.538] - loss: 2.717 - mae: 28.580 - mean_q: 38.505\n",
      "\n",
      "Interval 23 (220000 steps performed)\n",
      "10000/10000 [==============================] - 65s 7ms/step - reward: 0.1335\n",
      "12 episodes - episode_reward: 109.986 [24.456, 144.782] - loss: 2.425 - mae: 28.028 - mean_q: 37.807\n",
      "\n",
      "Interval 24 (230000 steps performed)\n",
      "10000/10000 [==============================] - 67s 7ms/step - reward: 0.1371\n",
      "12 episodes - episode_reward: 118.392 [-30.221, 222.896] - loss: 2.898 - mae: 27.465 - mean_q: 37.100\n",
      "\n",
      "Interval 25 (240000 steps performed)\n",
      "10000/10000 [==============================] - 104s 10ms/step - reward: 0.0377\n",
      "12 episodes - episode_reward: 28.531 [-228.546, 118.200] - loss: 2.472 - mae: 26.859 - mean_q: 36.246\n",
      "\n",
      "Interval 26 (250000 steps performed)\n",
      "10000/10000 [==============================] - 75s 7ms/step - reward: 0.0957\n",
      "10 episodes - episode_reward: 100.531 [-53.751, 164.221] - loss: 2.592 - mae: 25.969 - mean_q: 35.137\n",
      "\n",
      "Interval 27 (260000 steps performed)\n",
      "10000/10000 [==============================] - 72s 7ms/step - reward: 0.0226\n",
      "15 episodes - episode_reward: 13.772 [-249.419, 160.718] - loss: 2.615 - mae: 25.531 - mean_q: 34.607\n",
      "\n",
      "Interval 28 (270000 steps performed)\n",
      "10000/10000 [==============================] - 69s 7ms/step - reward: 0.1036\n",
      "13 episodes - episode_reward: 80.710 [-275.897, 215.328] - loss: 2.482 - mae: 24.846 - mean_q: 33.610\n",
      "\n",
      "Interval 29 (280000 steps performed)\n",
      "10000/10000 [==============================] - 68s 7ms/step - reward: 0.1150\n",
      "13 episodes - episode_reward: 86.982 [-136.053, 154.812] - loss: 2.469 - mae: 24.268 - mean_q: 32.822\n",
      "\n",
      "Interval 30 (290000 steps performed)\n",
      "10000/10000 [==============================] - 80s 8ms/step - reward: 0.0804\n",
      "14 episodes - episode_reward: 59.906 [-197.921, 143.924] - loss: 3.091 - mae: 24.714 - mean_q: 33.366\n",
      "\n",
      "Interval 31 (300000 steps performed)\n",
      "  475/10000 [>.............................] - ETA: 1:19 - reward: -0.0691done, took 1770.955 seconds\n"
     ]
    },
    {
     "data": {
      "text/plain": [
       "<keras.callbacks.History at 0x1f46bdfa320>"
      ]
     },
     "execution_count": 20,
     "metadata": {},
     "output_type": "execute_result"
    }
   ],
   "source": [
    "dqn.fit(env, nb_steps=500000, visualize=False, verbose=1)"
   ]
  },
  {
   "attachments": {},
   "cell_type": "markdown",
   "metadata": {},
   "source": [
    "300 000 steps performed"
   ]
  },
  {
   "attachments": {},
   "cell_type": "markdown",
   "metadata": {},
   "source": [
    "## Evaluate RL Model"
   ]
  },
  {
   "cell_type": "code",
   "execution_count": 21,
   "metadata": {},
   "outputs": [],
   "source": [
    "import matplotlib.pyplot as plt"
   ]
  },
  {
   "cell_type": "code",
   "execution_count": 22,
   "metadata": {},
   "outputs": [
    {
     "name": "stdout",
     "output_type": "stream",
     "text": [
      "Testing for 50 episodes ...\n",
      "Episode 1: reward: 109.329, steps: 1000\n",
      "Episode 2: reward: 195.146, steps: 1000\n",
      "Episode 3: reward: 123.547, steps: 1000\n",
      "Episode 4: reward: 287.315, steps: 313\n",
      "Episode 5: reward: 270.427, steps: 178\n",
      "Episode 6: reward: 292.497, steps: 209\n",
      "Episode 7: reward: 272.134, steps: 354\n",
      "Episode 8: reward: 258.525, steps: 187\n",
      "Episode 9: reward: 280.012, steps: 236\n",
      "Episode 10: reward: 235.627, steps: 177\n",
      "Episode 11: reward: 296.210, steps: 210\n",
      "Episode 12: reward: 262.756, steps: 247\n",
      "Episode 13: reward: 301.189, steps: 210\n",
      "Episode 14: reward: 282.006, steps: 177\n",
      "Episode 15: reward: 276.226, steps: 210\n",
      "Episode 16: reward: 253.027, steps: 204\n",
      "Episode 17: reward: 294.160, steps: 189\n",
      "Episode 18: reward: 302.491, steps: 211\n",
      "Episode 19: reward: 274.874, steps: 261\n",
      "Episode 20: reward: 257.099, steps: 234\n",
      "Episode 21: reward: 244.472, steps: 188\n",
      "Episode 22: reward: 268.719, steps: 173\n",
      "Episode 23: reward: 267.087, steps: 219\n",
      "Episode 24: reward: 258.557, steps: 195\n",
      "Episode 25: reward: 261.466, steps: 193\n",
      "Episode 26: reward: -256.690, steps: 174\n",
      "Episode 27: reward: 165.455, steps: 1000\n",
      "Episode 28: reward: 271.449, steps: 180\n",
      "Episode 29: reward: 275.174, steps: 838\n",
      "Episode 30: reward: 269.310, steps: 171\n",
      "Episode 31: reward: 305.873, steps: 170\n",
      "Episode 32: reward: 267.364, steps: 200\n",
      "Episode 33: reward: 246.002, steps: 187\n",
      "Episode 34: reward: 262.821, steps: 206\n",
      "Episode 35: reward: 270.246, steps: 232\n",
      "Episode 36: reward: 281.022, steps: 203\n",
      "Episode 37: reward: 274.608, steps: 224\n",
      "Episode 38: reward: 181.778, steps: 1000\n",
      "Episode 39: reward: 295.618, steps: 256\n",
      "Episode 40: reward: 259.876, steps: 193\n",
      "Episode 41: reward: 291.362, steps: 183\n",
      "Episode 42: reward: 298.223, steps: 213\n",
      "Episode 43: reward: 262.151, steps: 236\n",
      "Episode 44: reward: 269.931, steps: 197\n",
      "Episode 45: reward: 265.951, steps: 273\n",
      "Episode 46: reward: 267.798, steps: 246\n",
      "Episode 47: reward: 252.169, steps: 180\n",
      "Episode 48: reward: 282.786, steps: 196\n",
      "Episode 49: reward: 260.649, steps: 198\n",
      "Episode 50: reward: 251.167, steps: 194\n"
     ]
    }
   ],
   "source": [
    "episodes = 50\n",
    "scores = dqn.test(env, nb_episodes=episodes, visualize=False)"
   ]
  },
  {
   "cell_type": "code",
   "execution_count": 23,
   "metadata": {},
   "outputs": [
    {
     "name": "stdout",
     "output_type": "stream",
     "text": [
      "Average Reward Per Episode:  249.94\n",
      "Success Rate: 98.0 %\n"
     ]
    }
   ],
   "source": [
    "rewards = scores.history['episode_reward']\n",
    "win = 0\n",
    "\n",
    "for reward in rewards:\n",
    "    if reward > 0:\n",
    "        win += 1\n",
    "\n",
    "print(f'Average Reward Per Episode: ', round(np.mean(rewards), 2))\n",
    "print(f\"Success Rate: {win/episodes*100} %\")"
   ]
  },
  {
   "cell_type": "code",
   "execution_count": 24,
   "metadata": {},
   "outputs": [
    {
     "data": {
      "image/png": "[encoded data removed]",
      "text/plain": [
       "<Figure size 1000x500 with 1 Axes>"
      ]
     },
     "metadata": {},
     "output_type": "display_data"
    }
   ],
   "source": [
    "plt.figure(figsize=(10,5))\n",
    "\n",
    "plt.plot(np.arange(len(rewards)), rewards, color='blue')\n",
    "plt.xlabel('Number of episodes')\n",
    "plt.ylabel('Rewards')\n",
    "\n",
    "plt.show()"
   ]
  },
  {
   "cell_type": "code",
   "execution_count": 25,
   "metadata": {},
   "outputs": [
    {
     "name": "stdout",
     "output_type": "stream",
     "text": [
      "Testing for 10 episodes ...\n",
      "Episode 1: reward: 235.075, steps: 221\n",
      "Episode 2: reward: 268.230, steps: 200\n",
      "Episode 3: reward: 264.906, steps: 173\n",
      "Episode 4: reward: 173.918, steps: 516\n",
      "Episode 5: reward: 246.948, steps: 409\n",
      "Episode 6: reward: 269.728, steps: 233\n",
      "Episode 7: reward: 241.781, steps: 228\n",
      "Episode 8: reward: 303.574, steps: 166\n",
      "Episode 9: reward: 245.267, steps: 348\n",
      "Episode 10: reward: -202.452, steps: 195\n"
     ]
    }
   ],
   "source": [
    "_ = dqn.test(env, nb_episodes=10, visualize=True)\n",
    "env.close()"
   ]
  },
  {
   "cell_type": "code",
   "execution_count": 26,
   "metadata": {},
   "outputs": [],
   "source": [
    "dqn.save_weights('Lunar Lander DQN.h5f', overwrite=True)"
   ]
  }
 ],
 "metadata": {
  "kernelspec": {
   "display_name": "RL",
   "language": "python",
   "name": "python3"
  },
  "language_info": {
   "codemirror_mode": {
    "name": "ipython",
    "version": 3
   },
   "file_extension": ".py",
   "mimetype": "text/x-python",
   "name": "python",
   "nbconvert_exporter": "python",
   "pygments_lexer": "ipython3",
   "version": "3.10.8"
  },
  "orig_nbformat": 4,
  "vscode": {
   "interpreter": {
    "hash": "e29a723c928d12e482be03ed9aaa3f0a9a17cf0e22effd5288de030c3665e455"
   }
  }
 },
 "nbformat": 4,
 "nbformat_minor": 2
}
